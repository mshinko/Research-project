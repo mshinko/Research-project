{
  "nbformat": 4,
  "nbformat_minor": 0,
  "metadata": {
    "colab": {
      "provenance": [],
      "authorship_tag": "ABX9TyP2aNY23SPO33o/5PIr6kVq",
      "include_colab_link": true
    },
    "kernelspec": {
      "name": "python3",
      "display_name": "Python 3"
    },
    "language_info": {
      "name": "python"
    },
    "widgets": {
      "application/vnd.jupyter.widget-state+json": {
        "7c2f0f753bbb48bdaf53cf2f49ed40e2": {
          "model_module": "@jupyter-widgets/controls",
          "model_name": "HBoxModel",
          "model_module_version": "1.5.0",
          "state": {
            "_dom_classes": [],
            "_model_module": "@jupyter-widgets/controls",
            "_model_module_version": "1.5.0",
            "_model_name": "HBoxModel",
            "_view_count": null,
            "_view_module": "@jupyter-widgets/controls",
            "_view_module_version": "1.5.0",
            "_view_name": "HBoxView",
            "box_style": "",
            "children": [
              "IPY_MODEL_ca1d3970086f4f0f88b2d79eb4d036b6",
              "IPY_MODEL_8fbe1d22e9a74b42b176de9b92f92b79",
              "IPY_MODEL_23a633b6329b44249531ae0e8e4f64c1"
            ],
            "layout": "IPY_MODEL_867c7f764b094a298823c9fd88dfc5af"
          }
        },
        "ca1d3970086f4f0f88b2d79eb4d036b6": {
          "model_module": "@jupyter-widgets/controls",
          "model_name": "HTMLModel",
          "model_module_version": "1.5.0",
          "state": {
            "_dom_classes": [],
            "_model_module": "@jupyter-widgets/controls",
            "_model_module_version": "1.5.0",
            "_model_name": "HTMLModel",
            "_view_count": null,
            "_view_module": "@jupyter-widgets/controls",
            "_view_module_version": "1.5.0",
            "_view_name": "HTMLView",
            "description": "",
            "description_tooltip": null,
            "layout": "IPY_MODEL_272faec4538f4241ab449f5021822039",
            "placeholder": "​",
            "style": "IPY_MODEL_e15bd3a87f494670aaccf5b05b3c6f43",
            "value": "Map: 100%"
          }
        },
        "8fbe1d22e9a74b42b176de9b92f92b79": {
          "model_module": "@jupyter-widgets/controls",
          "model_name": "FloatProgressModel",
          "model_module_version": "1.5.0",
          "state": {
            "_dom_classes": [],
            "_model_module": "@jupyter-widgets/controls",
            "_model_module_version": "1.5.0",
            "_model_name": "FloatProgressModel",
            "_view_count": null,
            "_view_module": "@jupyter-widgets/controls",
            "_view_module_version": "1.5.0",
            "_view_name": "ProgressView",
            "bar_style": "success",
            "description": "",
            "description_tooltip": null,
            "layout": "IPY_MODEL_131770f32fd74ddd93f955931388a12b",
            "max": 4,
            "min": 0,
            "orientation": "horizontal",
            "style": "IPY_MODEL_61f288b623664de5b42e3ba19dceb1ad",
            "value": 4
          }
        },
        "23a633b6329b44249531ae0e8e4f64c1": {
          "model_module": "@jupyter-widgets/controls",
          "model_name": "HTMLModel",
          "model_module_version": "1.5.0",
          "state": {
            "_dom_classes": [],
            "_model_module": "@jupyter-widgets/controls",
            "_model_module_version": "1.5.0",
            "_model_name": "HTMLModel",
            "_view_count": null,
            "_view_module": "@jupyter-widgets/controls",
            "_view_module_version": "1.5.0",
            "_view_name": "HTMLView",
            "description": "",
            "description_tooltip": null,
            "layout": "IPY_MODEL_f71a3688d7034e2ea3bf13d778331b82",
            "placeholder": "​",
            "style": "IPY_MODEL_4b62cdf3365c472b8e1394b3e87dd7eb",
            "value": " 4/4 [00:00&lt;00:00, 66.53 examples/s]"
          }
        },
        "867c7f764b094a298823c9fd88dfc5af": {
          "model_module": "@jupyter-widgets/base",
          "model_name": "LayoutModel",
          "model_module_version": "1.2.0",
          "state": {
            "_model_module": "@jupyter-widgets/base",
            "_model_module_version": "1.2.0",
            "_model_name": "LayoutModel",
            "_view_count": null,
            "_view_module": "@jupyter-widgets/base",
            "_view_module_version": "1.2.0",
            "_view_name": "LayoutView",
            "align_content": null,
            "align_items": null,
            "align_self": null,
            "border": null,
            "bottom": null,
            "display": null,
            "flex": null,
            "flex_flow": null,
            "grid_area": null,
            "grid_auto_columns": null,
            "grid_auto_flow": null,
            "grid_auto_rows": null,
            "grid_column": null,
            "grid_gap": null,
            "grid_row": null,
            "grid_template_areas": null,
            "grid_template_columns": null,
            "grid_template_rows": null,
            "height": null,
            "justify_content": null,
            "justify_items": null,
            "left": null,
            "margin": null,
            "max_height": null,
            "max_width": null,
            "min_height": null,
            "min_width": null,
            "object_fit": null,
            "object_position": null,
            "order": null,
            "overflow": null,
            "overflow_x": null,
            "overflow_y": null,
            "padding": null,
            "right": null,
            "top": null,
            "visibility": null,
            "width": null
          }
        },
        "272faec4538f4241ab449f5021822039": {
          "model_module": "@jupyter-widgets/base",
          "model_name": "LayoutModel",
          "model_module_version": "1.2.0",
          "state": {
            "_model_module": "@jupyter-widgets/base",
            "_model_module_version": "1.2.0",
            "_model_name": "LayoutModel",
            "_view_count": null,
            "_view_module": "@jupyter-widgets/base",
            "_view_module_version": "1.2.0",
            "_view_name": "LayoutView",
            "align_content": null,
            "align_items": null,
            "align_self": null,
            "border": null,
            "bottom": null,
            "display": null,
            "flex": null,
            "flex_flow": null,
            "grid_area": null,
            "grid_auto_columns": null,
            "grid_auto_flow": null,
            "grid_auto_rows": null,
            "grid_column": null,
            "grid_gap": null,
            "grid_row": null,
            "grid_template_areas": null,
            "grid_template_columns": null,
            "grid_template_rows": null,
            "height": null,
            "justify_content": null,
            "justify_items": null,
            "left": null,
            "margin": null,
            "max_height": null,
            "max_width": null,
            "min_height": null,
            "min_width": null,
            "object_fit": null,
            "object_position": null,
            "order": null,
            "overflow": null,
            "overflow_x": null,
            "overflow_y": null,
            "padding": null,
            "right": null,
            "top": null,
            "visibility": null,
            "width": null
          }
        },
        "e15bd3a87f494670aaccf5b05b3c6f43": {
          "model_module": "@jupyter-widgets/controls",
          "model_name": "DescriptionStyleModel",
          "model_module_version": "1.5.0",
          "state": {
            "_model_module": "@jupyter-widgets/controls",
            "_model_module_version": "1.5.0",
            "_model_name": "DescriptionStyleModel",
            "_view_count": null,
            "_view_module": "@jupyter-widgets/base",
            "_view_module_version": "1.2.0",
            "_view_name": "StyleView",
            "description_width": ""
          }
        },
        "131770f32fd74ddd93f955931388a12b": {
          "model_module": "@jupyter-widgets/base",
          "model_name": "LayoutModel",
          "model_module_version": "1.2.0",
          "state": {
            "_model_module": "@jupyter-widgets/base",
            "_model_module_version": "1.2.0",
            "_model_name": "LayoutModel",
            "_view_count": null,
            "_view_module": "@jupyter-widgets/base",
            "_view_module_version": "1.2.0",
            "_view_name": "LayoutView",
            "align_content": null,
            "align_items": null,
            "align_self": null,
            "border": null,
            "bottom": null,
            "display": null,
            "flex": null,
            "flex_flow": null,
            "grid_area": null,
            "grid_auto_columns": null,
            "grid_auto_flow": null,
            "grid_auto_rows": null,
            "grid_column": null,
            "grid_gap": null,
            "grid_row": null,
            "grid_template_areas": null,
            "grid_template_columns": null,
            "grid_template_rows": null,
            "height": null,
            "justify_content": null,
            "justify_items": null,
            "left": null,
            "margin": null,
            "max_height": null,
            "max_width": null,
            "min_height": null,
            "min_width": null,
            "object_fit": null,
            "object_position": null,
            "order": null,
            "overflow": null,
            "overflow_x": null,
            "overflow_y": null,
            "padding": null,
            "right": null,
            "top": null,
            "visibility": null,
            "width": null
          }
        },
        "61f288b623664de5b42e3ba19dceb1ad": {
          "model_module": "@jupyter-widgets/controls",
          "model_name": "ProgressStyleModel",
          "model_module_version": "1.5.0",
          "state": {
            "_model_module": "@jupyter-widgets/controls",
            "_model_module_version": "1.5.0",
            "_model_name": "ProgressStyleModel",
            "_view_count": null,
            "_view_module": "@jupyter-widgets/base",
            "_view_module_version": "1.2.0",
            "_view_name": "StyleView",
            "bar_color": null,
            "description_width": ""
          }
        },
        "f71a3688d7034e2ea3bf13d778331b82": {
          "model_module": "@jupyter-widgets/base",
          "model_name": "LayoutModel",
          "model_module_version": "1.2.0",
          "state": {
            "_model_module": "@jupyter-widgets/base",
            "_model_module_version": "1.2.0",
            "_model_name": "LayoutModel",
            "_view_count": null,
            "_view_module": "@jupyter-widgets/base",
            "_view_module_version": "1.2.0",
            "_view_name": "LayoutView",
            "align_content": null,
            "align_items": null,
            "align_self": null,
            "border": null,
            "bottom": null,
            "display": null,
            "flex": null,
            "flex_flow": null,
            "grid_area": null,
            "grid_auto_columns": null,
            "grid_auto_flow": null,
            "grid_auto_rows": null,
            "grid_column": null,
            "grid_gap": null,
            "grid_row": null,
            "grid_template_areas": null,
            "grid_template_columns": null,
            "grid_template_rows": null,
            "height": null,
            "justify_content": null,
            "justify_items": null,
            "left": null,
            "margin": null,
            "max_height": null,
            "max_width": null,
            "min_height": null,
            "min_width": null,
            "object_fit": null,
            "object_position": null,
            "order": null,
            "overflow": null,
            "overflow_x": null,
            "overflow_y": null,
            "padding": null,
            "right": null,
            "top": null,
            "visibility": null,
            "width": null
          }
        },
        "4b62cdf3365c472b8e1394b3e87dd7eb": {
          "model_module": "@jupyter-widgets/controls",
          "model_name": "DescriptionStyleModel",
          "model_module_version": "1.5.0",
          "state": {
            "_model_module": "@jupyter-widgets/controls",
            "_model_module_version": "1.5.0",
            "_model_name": "DescriptionStyleModel",
            "_view_count": null,
            "_view_module": "@jupyter-widgets/base",
            "_view_module_version": "1.2.0",
            "_view_name": "StyleView",
            "description_width": ""
          }
        }
      }
    }
  },
  "cells": [
    {
      "cell_type": "markdown",
      "metadata": {
        "id": "view-in-github",
        "colab_type": "text"
      },
      "source": [
        "<a href=\"https://colab.research.google.com/github/mshinko/Research-project/blob/main/IP.ipynb\" target=\"_parent\"><img src=\"https://colab.research.google.com/assets/colab-badge.svg\" alt=\"Open In Colab\"/></a>"
      ]
    },
    {
      "cell_type": "code",
      "execution_count": 1,
      "metadata": {
        "colab": {
          "base_uri": "https://localhost:8080/"
        },
        "id": "6RdHidhEzo7u",
        "outputId": "dbd7af2a-04ee-4988-bc8e-855d8293e931"
      },
      "outputs": [
        {
          "output_type": "stream",
          "name": "stdout",
          "text": [
            "Collecting rouge\n",
            "  Downloading rouge-1.0.1-py3-none-any.whl (13 kB)\n",
            "Requirement already satisfied: six in /usr/local/lib/python3.10/dist-packages (from rouge) (1.16.0)\n",
            "Installing collected packages: rouge\n",
            "Successfully installed rouge-1.0.1\n"
          ]
        }
      ],
      "source": [
        "pip install rouge"
      ]
    },
    {
      "cell_type": "code",
      "source": [
        "pip install transformers"
      ],
      "metadata": {
        "colab": {
          "base_uri": "https://localhost:8080/"
        },
        "id": "5-4frHJT0Oda",
        "outputId": "0e0bc63b-ffda-4695-e009-a534487fc297"
      },
      "execution_count": 1,
      "outputs": [
        {
          "output_type": "stream",
          "name": "stdout",
          "text": [
            "Requirement already satisfied: transformers in /usr/local/lib/python3.10/dist-packages (4.33.2)\n",
            "Requirement already satisfied: filelock in /usr/local/lib/python3.10/dist-packages (from transformers) (3.12.2)\n",
            "Requirement already satisfied: huggingface-hub<1.0,>=0.15.1 in /usr/local/lib/python3.10/dist-packages (from transformers) (0.17.2)\n",
            "Requirement already satisfied: numpy>=1.17 in /usr/local/lib/python3.10/dist-packages (from transformers) (1.23.5)\n",
            "Requirement already satisfied: packaging>=20.0 in /usr/local/lib/python3.10/dist-packages (from transformers) (23.1)\n",
            "Requirement already satisfied: pyyaml>=5.1 in /usr/local/lib/python3.10/dist-packages (from transformers) (6.0.1)\n",
            "Requirement already satisfied: regex!=2019.12.17 in /usr/local/lib/python3.10/dist-packages (from transformers) (2023.6.3)\n",
            "Requirement already satisfied: requests in /usr/local/lib/python3.10/dist-packages (from transformers) (2.31.0)\n",
            "Requirement already satisfied: tokenizers!=0.11.3,<0.14,>=0.11.1 in /usr/local/lib/python3.10/dist-packages (from transformers) (0.13.3)\n",
            "Requirement already satisfied: safetensors>=0.3.1 in /usr/local/lib/python3.10/dist-packages (from transformers) (0.3.3)\n",
            "Requirement already satisfied: tqdm>=4.27 in /usr/local/lib/python3.10/dist-packages (from transformers) (4.66.1)\n",
            "Requirement already satisfied: fsspec in /usr/local/lib/python3.10/dist-packages (from huggingface-hub<1.0,>=0.15.1->transformers) (2023.6.0)\n",
            "Requirement already satisfied: typing-extensions>=3.7.4.3 in /usr/local/lib/python3.10/dist-packages (from huggingface-hub<1.0,>=0.15.1->transformers) (4.5.0)\n",
            "Requirement already satisfied: charset-normalizer<4,>=2 in /usr/local/lib/python3.10/dist-packages (from requests->transformers) (3.2.0)\n",
            "Requirement already satisfied: idna<4,>=2.5 in /usr/local/lib/python3.10/dist-packages (from requests->transformers) (3.4)\n",
            "Requirement already satisfied: urllib3<3,>=1.21.1 in /usr/local/lib/python3.10/dist-packages (from requests->transformers) (2.0.4)\n",
            "Requirement already satisfied: certifi>=2017.4.17 in /usr/local/lib/python3.10/dist-packages (from requests->transformers) (2023.7.22)\n"
          ]
        }
      ]
    },
    {
      "cell_type": "code",
      "source": [
        "from rouge import Rouge"
      ],
      "metadata": {
        "id": "QI-BSbC0z2dV"
      },
      "execution_count": 24,
      "outputs": []
    },
    {
      "cell_type": "code",
      "source": [],
      "metadata": {
        "id": "Th4XzyfUz2gX"
      },
      "execution_count": 28,
      "outputs": []
    },
    {
      "cell_type": "code",
      "source": [
        "from rouge import Rouge\n",
        "\n",
        "# Reference summary (ideal summary)\n",
        "reference_summary = \"Week 1 Created the team and MOKR. Plan to find competitors and understand technology needed. They lack the knowledge to build a streaming service solution and it is unclear who their customers are that would pay for it. Identified problems but don’t have plans for mitigating.\"\n",
        "\n",
        "# Generated summary (summary produced by your system)\n",
        "\n",
        "# Initialize ROUGE\n",
        "rouge = Rouge()\n",
        "\n",
        "# Calculate ROUGE scores\n",
        "scores = rouge.get_scores(generated_summary, reference_summary, avg=True)\n",
        "\n",
        "# Print ROUGE scores\n",
        "print(scores)"
      ],
      "metadata": {
        "colab": {
          "base_uri": "https://localhost:8080/"
        },
        "id": "3Nubcwob2Trr",
        "outputId": "824a1d5d-2fcd-4e4d-b62f-056f7bad9a09"
      },
      "execution_count": null,
      "outputs": [
        {
          "output_type": "stream",
          "name": "stdout",
          "text": [
            "{'rouge-1': {'r': 0.3, 'p': 0.21428571428571427, 'f': 0.24999999513888896}, 'rouge-2': {'r': 0.0, 'p': 0.0, 'f': 0.0}, 'rouge-l': {'r': 0.25, 'p': 0.17857142857142858, 'f': 0.20833332847222233}}\n"
          ]
        }
      ]
    },
    {
      "cell_type": "code",
      "source": [],
      "metadata": {
        "id": "OcF5iNK2z2jI"
      },
      "execution_count": null,
      "outputs": []
    },
    {
      "cell_type": "code",
      "source": [
        "pip install torch datasets"
      ],
      "metadata": {
        "colab": {
          "base_uri": "https://localhost:8080/"
        },
        "id": "z80wz_uDz2l5",
        "outputId": "3a7d183b-5251-4f17-81d1-f984dc212f84"
      },
      "execution_count": 2,
      "outputs": [
        {
          "output_type": "stream",
          "name": "stdout",
          "text": [
            "Requirement already satisfied: torch in /usr/local/lib/python3.10/dist-packages (2.0.1+cu118)\n",
            "Requirement already satisfied: datasets in /usr/local/lib/python3.10/dist-packages (2.14.5)\n",
            "Requirement already satisfied: filelock in /usr/local/lib/python3.10/dist-packages (from torch) (3.12.2)\n",
            "Requirement already satisfied: typing-extensions in /usr/local/lib/python3.10/dist-packages (from torch) (4.5.0)\n",
            "Requirement already satisfied: sympy in /usr/local/lib/python3.10/dist-packages (from torch) (1.12)\n",
            "Requirement already satisfied: networkx in /usr/local/lib/python3.10/dist-packages (from torch) (3.1)\n",
            "Requirement already satisfied: jinja2 in /usr/local/lib/python3.10/dist-packages (from torch) (3.1.2)\n",
            "Requirement already satisfied: triton==2.0.0 in /usr/local/lib/python3.10/dist-packages (from torch) (2.0.0)\n",
            "Requirement already satisfied: cmake in /usr/local/lib/python3.10/dist-packages (from triton==2.0.0->torch) (3.27.4.1)\n",
            "Requirement already satisfied: lit in /usr/local/lib/python3.10/dist-packages (from triton==2.0.0->torch) (16.0.6)\n",
            "Requirement already satisfied: numpy>=1.17 in /usr/local/lib/python3.10/dist-packages (from datasets) (1.23.5)\n",
            "Requirement already satisfied: pyarrow>=8.0.0 in /usr/local/lib/python3.10/dist-packages (from datasets) (9.0.0)\n",
            "Requirement already satisfied: dill<0.3.8,>=0.3.0 in /usr/local/lib/python3.10/dist-packages (from datasets) (0.3.7)\n",
            "Requirement already satisfied: pandas in /usr/local/lib/python3.10/dist-packages (from datasets) (1.5.3)\n",
            "Requirement already satisfied: requests>=2.19.0 in /usr/local/lib/python3.10/dist-packages (from datasets) (2.31.0)\n",
            "Requirement already satisfied: tqdm>=4.62.1 in /usr/local/lib/python3.10/dist-packages (from datasets) (4.66.1)\n",
            "Requirement already satisfied: xxhash in /usr/local/lib/python3.10/dist-packages (from datasets) (3.3.0)\n",
            "Requirement already satisfied: multiprocess in /usr/local/lib/python3.10/dist-packages (from datasets) (0.70.15)\n",
            "Requirement already satisfied: fsspec[http]<2023.9.0,>=2023.1.0 in /usr/local/lib/python3.10/dist-packages (from datasets) (2023.6.0)\n",
            "Requirement already satisfied: aiohttp in /usr/local/lib/python3.10/dist-packages (from datasets) (3.8.5)\n",
            "Requirement already satisfied: huggingface-hub<1.0.0,>=0.14.0 in /usr/local/lib/python3.10/dist-packages (from datasets) (0.17.2)\n",
            "Requirement already satisfied: packaging in /usr/local/lib/python3.10/dist-packages (from datasets) (23.1)\n",
            "Requirement already satisfied: pyyaml>=5.1 in /usr/local/lib/python3.10/dist-packages (from datasets) (6.0.1)\n",
            "Requirement already satisfied: attrs>=17.3.0 in /usr/local/lib/python3.10/dist-packages (from aiohttp->datasets) (23.1.0)\n",
            "Requirement already satisfied: charset-normalizer<4.0,>=2.0 in /usr/local/lib/python3.10/dist-packages (from aiohttp->datasets) (3.2.0)\n",
            "Requirement already satisfied: multidict<7.0,>=4.5 in /usr/local/lib/python3.10/dist-packages (from aiohttp->datasets) (6.0.4)\n",
            "Requirement already satisfied: async-timeout<5.0,>=4.0.0a3 in /usr/local/lib/python3.10/dist-packages (from aiohttp->datasets) (4.0.3)\n",
            "Requirement already satisfied: yarl<2.0,>=1.0 in /usr/local/lib/python3.10/dist-packages (from aiohttp->datasets) (1.9.2)\n",
            "Requirement already satisfied: frozenlist>=1.1.1 in /usr/local/lib/python3.10/dist-packages (from aiohttp->datasets) (1.4.0)\n",
            "Requirement already satisfied: aiosignal>=1.1.2 in /usr/local/lib/python3.10/dist-packages (from aiohttp->datasets) (1.3.1)\n",
            "Requirement already satisfied: idna<4,>=2.5 in /usr/local/lib/python3.10/dist-packages (from requests>=2.19.0->datasets) (3.4)\n",
            "Requirement already satisfied: urllib3<3,>=1.21.1 in /usr/local/lib/python3.10/dist-packages (from requests>=2.19.0->datasets) (2.0.4)\n",
            "Requirement already satisfied: certifi>=2017.4.17 in /usr/local/lib/python3.10/dist-packages (from requests>=2.19.0->datasets) (2023.7.22)\n",
            "Requirement already satisfied: MarkupSafe>=2.0 in /usr/local/lib/python3.10/dist-packages (from jinja2->torch) (2.1.3)\n",
            "Requirement already satisfied: python-dateutil>=2.8.1 in /usr/local/lib/python3.10/dist-packages (from pandas->datasets) (2.8.2)\n",
            "Requirement already satisfied: pytz>=2020.1 in /usr/local/lib/python3.10/dist-packages (from pandas->datasets) (2023.3.post1)\n",
            "Requirement already satisfied: mpmath>=0.19 in /usr/local/lib/python3.10/dist-packages (from sympy->torch) (1.3.0)\n",
            "Requirement already satisfied: six>=1.5 in /usr/local/lib/python3.10/dist-packages (from python-dateutil>=2.8.1->pandas->datasets) (1.16.0)\n"
          ]
        }
      ]
    },
    {
      "cell_type": "code",
      "source": [
        "pip install jsonlines"
      ],
      "metadata": {
        "colab": {
          "base_uri": "https://localhost:8080/"
        },
        "id": "dlErtOJWz2os",
        "outputId": "4c2de80f-eddd-4f4f-88cd-55dbfbea1028"
      },
      "execution_count": 3,
      "outputs": [
        {
          "output_type": "stream",
          "name": "stdout",
          "text": [
            "Requirement already satisfied: jsonlines in /usr/local/lib/python3.10/dist-packages (4.0.0)\n",
            "Requirement already satisfied: attrs>=19.2.0 in /usr/local/lib/python3.10/dist-packages (from jsonlines) (23.1.0)\n"
          ]
        }
      ]
    },
    {
      "cell_type": "code",
      "source": [
        "import jsonlines\n",
        "import pandas as pd\n",
        "from google.colab import files\n",
        "\n",
        "# Use triple-quoted strings to preserve the formatting\n",
        "original_text = \"\"\"\n",
        "  To: VRSS Management Team\n",
        "    From: David Schlingloff\n",
        "    Subject: VRSS Management Report – Week ending January 30th, 2022\n",
        "    Copies: Management Team, Advisors\n",
        "\n",
        "    Priorities\n",
        "    We are working on these priorities:\n",
        "    1. Finalize a set of interested and motivated team members.\n",
        "    2. Define competitors to the VRSS product.\n",
        "    3. Identify possible methods of VR streaming.\n",
        "\n",
        "    Progress\n",
        "    During this (short) reporting period, we accomplished these tasks:\n",
        "    - Developed the idea and company:\n",
        "      - Brainstormed possible ideas to pursue and decided upon the VR service.\n",
        "      - Created a name for the company (Virtual Reality Sports Seating - VRSS).\n",
        "    - Founded the Team:\n",
        "      - Confirmed 4 teammates (we may accept more in the following days).\n",
        "      - Drafted our MOKRs for discussion.\n",
        "\n",
        "    Plans\n",
        "    During the next week, we plan to finish these tasks:\n",
        "    - Find 5 competitors to the planned VRSS service:\n",
        "      - Perform research online to develop 5 possible competitors (both direct and indirect) to VRSS service by Friday, February 4th (Alex, Ryan, Matt).\n",
        "    - Brainstorm 4 VR streaming-capable cameras:\n",
        "      - Find 4 different types of video cameras (preferably inexpensive, <$1000) that can support VR streaming capabilities by Friday, February 4th.\n",
        "      - Begin understanding the limitations of streaming bandwidth (David, Kartik).\n",
        "\n",
        "    Problems\n",
        "    We are aware of these problems:\n",
        "    - We need to finalize our team:\n",
        "      - There are still people who were interested in joining last week but left too early to make a final decision. We would like to complete this by the end of class on Monday, January 31st.\n",
        "    - We are unsure if cameras can support our bandwidth:\n",
        "      - The team would like to use a limited number of cameras that can be accessed by many different people during a game. The team is unsure if it is even possible to get these types of cameras without spending excessive amounts of money.\n",
        "    - We do not currently have experience with software/website creation:\n",
        "      - Much of the VRSS streaming service is dependent on a reliable stream with easy website access. A lot of our resources will need to be spent on attempting to create an appealing website with streaming capabilities.\n",
        "\n",
        "    Management Report.doc 2022Jan30 Page 1/2\n",
        "\n",
        "    Attachments\n",
        "    - None.\n",
        "\"\"\"\n",
        "\n",
        "# Define the summary\n",
        "summary = \"Week 1 Created the team and MOKR. Plan to find competitors and understand technology needed. They lack the knowledge to build a streaming service solution and it is unclear who their customers are that would pay for it. Identified problems but don’t have plans for mitigating.\"\n",
        "\n",
        "\n",
        "# Create a DataFrame\n",
        "df = pd.DataFrame({'Original Text': [original_text], 'Summary': [summary]})\n",
        "# Define the new row data as a dictionary\n",
        "new_row = {\n",
        "    'Original Text': \"\"\"\n",
        "    To: VRSS Management Team\n",
        "    From: David Schlingloff\n",
        "    Subject: VRSS Management Report – Week ending February 6th, 2022\n",
        "    Copies: Management Team, Advisors\n",
        "\n",
        "    Priorities\n",
        "    We are working on these priorities:\n",
        "    1. Finalize a set of interested and motivated team members.\n",
        "    2. Defining competitors to the VRSS product.\n",
        "    3. Identifying possible methods of VR streaming.\n",
        "\n",
        "    Progress\n",
        "    During this (short) reporting period, we accomplished these tasks:\n",
        "    - Find 5 competitors to the planned VRSS service – Developed 5 possible\n",
        "    competitors (both direct and indirect) to VRSS service.\n",
        "    - Brainstorm 4 VR streaming capable cameras - Found 4+ different types of\n",
        "    video cameras (preferably inexpensive, <$1000) that can support VR\n",
        "    streaming capabilities.\n",
        "\n",
        "    Plans\n",
        "    During the next week, we plan to finish these tasks:\n",
        "    - Refine our target consumers - Talk about refining the consumers we defined\n",
        "    last week. Build upon this by creating 3 theoretical customer profiles (David,\n",
        "    Alex, Matthew).\n",
        "    - Define our advisory board - We will think about the people that would be\n",
        "    helpful for us to talk to. Think about areas we could ask questions in. Using\n",
        "    these topics, search for people we can possibly talk to and discuss our project\n",
        "    plan. (Ryan, Entire Team).\n",
        "    - Find specific details about 3 competitors - From the competitors we found\n",
        "    last week, go on their websites and explore what they do and learn about\n",
        "    their history. Specifically, create a document by February 11th, with the\n",
        "    following 3 things noted for each: similarities/differences between company\n",
        "    and VRSS, the prices for that service, and if/how they advertise. (Kartik,\n",
        "    Ryan).\n",
        "\n",
        "    Problems\n",
        "    We are aware of these problems:\n",
        "    - We do not currently have experience with software / website creation –\n",
        "    Much of the VRSS streaming service is dependent on a reliable stream\n",
        "    with easy website access. A lot of our resources will need to be spent on\n",
        "    attempting to create an appealing website with streaming capabilities.\n",
        "    - Defining our place in the market is tricky - The team mapped out the\n",
        "    two existing markets - going to sports games and streaming them on TV.\n",
        "    We realized that there is a definitive space in the market for VR streaming,\n",
        "    but it might be tricky to convince the target consumers to pursue this\n",
        "    option versus the others.\n",
        "    - Finding VR capable equipment is expensive - VR is still a relatively new\n",
        "    type of streaming, and therefore the market for this technology is still\n",
        "    relatively niche. Finding equipment (like a VR capable camera) is possible,\n",
        "    but our requirement of <$1000 makes it difficult.\n",
        "    - Our marketing efforts/strategy is a current problem we have. In order to\n",
        "    acquire a lot of customers and produce sales, our marketing and\n",
        "    advertising will need to be phenomenal. We could develop a social media\n",
        "    account (Instagram/Facebook) and/or pay for a commercial\n",
        "    advertisement on TV.\n",
        "\n",
        "    Management Report.doc 2022Feb06 Page 1/5\n",
        "\n",
        "    Attachments\n",
        "    - None.\n",
        "    \"\"\",\n",
        "    'Summary': \"\"\"\n",
        "    Week 2\n",
        "    Found competitors and VR streaming cameras. Plan on analyzing competition, find advisory board members, and create 3 customer profiles. They lack the knowledge to build a streaming service solution, the equipment is too expensive and it is unclear who their customers are that would pay for it. Identified problems but don’t have plans for mitigating.\n",
        "    \"\"\"\n",
        "}\n",
        "\n",
        "# Append the new row to the DataFrame\n",
        "df = df.append(new_row, ignore_index=True)\n",
        "# Define the new row\n",
        "new_row_2 = {\n",
        "    'Original Text': \"\"\"\n",
        "   To: VRSS Management Team\n",
        "From: David Schlingloff\n",
        "Subject: VRSS Management Report – Week ending February 13th, 2022\n",
        "Copies: Management Team, Advisors\n",
        "Priorities\n",
        "We are working on these priorities:\n",
        "1. Gauge the interest of VR equipment with our target markets\n",
        "2. Identify a way to live-stream in VR\n",
        "3. Brainstorm ways to begin website creation\n",
        "Progress\n",
        "During this reporting period, we accomplished these tasks:\n",
        "● Refined our target consumers - Developed our ideal target market by\n",
        "creating 3 theoretical customer profiles based on the 3 customer groups that\n",
        "the team developed.\n",
        "● Defined our advisory board - Listed nine people that the team would like to\n",
        "invite to the first project review meeting. Each person has different unique\n",
        "talents and abilities that could help the team move forward.\n",
        "● Scheduled VR equipment rental - Reserved a VR camera and VR headset at\n",
        "the Virginia Tech library so that the team can begin testing with the\n",
        "equipment.\n",
        "● Find specific details about 3 competitors - Unable to accomplish this in the\n",
        "week timeframe. The team decided that the information we already have is\n",
        "enough to move forward with and we spent our resources on other tasks.\n",
        "Plans\n",
        "During the next week, we plan to finish these tasks:\n",
        "● Create an interest survey - Use google forms to develop a survey that can\n",
        "gauge the interest in this service based on the 3 target markets defined by\n",
        "February 17th. Generate a list of 9 people (three from each target market) to\n",
        "be sent out by February 21st. (Kartik, Ryan, Alex)\n",
        "● Obtain and use VR equipment - Receive the VR camera and headset from\n",
        "the Virginia Tech library and attempt to connect to the computer. See if it is\n",
        "possible to first record a video in VR. Then work on streaming options if time\n",
        "permits for the week. The team will research and document the process for\n",
        "video recording and video streaming (if possible). (David, all team)\n",
        "\n",
        "Management Report.doc 2022Feb13 Page 1/3\n",
        "\n",
        "Problems\n",
        "We are aware of these problems:\n",
        "● We still do not currently have experience with software / website\n",
        "creation – Much of the VRSS streaming service is dependent on a reliable\n",
        "stream with easy website access. A lot of our resources will need to be\n",
        "spent on attempting to create an appealing website with streaming\n",
        "capabilities. However, we are now looking at meeting with people who do\n",
        "have this experience and developing a plan of integration.\n",
        "● VR equipment implementation requires resources - Although the team\n",
        "was successful in figuring out a way to rent VR equipment, it has realized\n",
        "that in order to record and stream video, a powerful and expensive\n",
        "computer is needed. It will need to be portable so that it can be moved to\n",
        "where the VR cameras are located.\n",
        "● Our marketing efforts/strategy - In order to acquire a lot of customers and\n",
        "produce sales, our marketing and advertising will need to be phenomenal.\n",
        "We could develop a social media account (instagram/facebook) and/or\n",
        "pay for\n",
        "    \"\"\",\n",
        "    'Summary': \"\"\"\n",
        "    Week 3\n",
        "    Created customer profiles, list of potential advisory board members, and reserved VR equipment rentals to address the expense constraint identified last week. Failed to analyze competitors they believe they have sufficient information to move forward though not clear what that is. They plan to create an interest survey (as opposed to interviewing as indicated in MOKR) and record a VR video with rented equipment. They lack the knowledge to build a streaming service solution, the equipment is too expensive. They continue to have the same problems but don’t have plans for mitigating. Will need to intervene to get them unstuck.\n",
        "    \"\"\"\n",
        "}\n",
        "\n",
        "\n",
        "# Append the new row to the DataFrame\n",
        "df = df.append(new_row_2, ignore_index=True)\n",
        "new_row3 = {\n",
        "    'Original Text': \"\"\"\n",
        "    To: VRSS Management Team\n",
        "From: David Schlingloff\n",
        "Subject: VRSS Management Report – Week ending March 4th, 2022\n",
        "Copies: Management Team, Advisors\n",
        "Priorities\n",
        "We are working on these priorities:\n",
        "1. Get people to take our survey and evaluate the results.\n",
        "2. Identify a way to live-stream in VR\n",
        "3. Submit a video to KickstartVT\n",
        "Progress\n",
        "During this reporting period, we accomplished these tasks:\n",
        "● Analyzed interest survey results - Received 25 responses from the survey and\n",
        "wrote a one-page report summarizing the key-findings from the survey that was\n",
        "sent out. The team found that we should continue to pursue this product. (Matt,\n",
        "Ryan, Alex)\n",
        "● Obtained and use VR equipment - Obtained the Oculus Go and successfully\n",
        "connected it to YouTube VR. The process was documented and an Oculus Quest\n",
        "2 was scheduled for rent to attempt to do the same thing. If it works as well, then\n",
        "we will discuss using the Insta360 camera to live-stream to the Oculus Quest 2.\n",
        "(David, Kartik)\n",
        "● Performed individual project reviews - Gave the presentation to our advisory\n",
        "board members. (David, all team members)\n",
        "\n",
        "Plans\n",
        "During the next week, we plan to finish these tasks:\n",
        "● Finalize interest survey results - Synthesize the survey results and add to our\n",
        "report and project review presentation. (Ryan, Matt, Alex)\n",
        "● Obtain and use VR equipment - Obtain the Oculus Quest 2 and see if it can\n",
        "connect to YouTube VR. If so, document the process and start to discuss\n",
        "live-streaming options using the Insta360 camera. (Alex, Kartik)\n",
        "● Perform team project review - Revise presentation template for the class and\n",
        "present the project review to the team on Wednesday, March 16th. Record the\n",
        "comments from the Q&A. (David, all team members)\n",
        "● Create a video for KickStartVT - Record and edit a video for KickstartVT and\n",
        "submit on Sunday, March 20th. (David, all team members)\n",
        "\n",
        "Problems\n",
        "We are aware of these problems:\n",
        "● We can only rent equipment for a limited period - We would like to rent an\n",
        "Oculus Go or an Oculus Quest (since they are stand-alone devices), but they\n",
        "require rentals so timing can get delayed significantly.\n",
        "● We still do not currently have experience with software / website creation –\n",
        "Much of the VRSS streaming service is dependent on a reliable stream with easy\n",
        "website access. A lot of our resources will need to be spent on attempting to\n",
        "create an appealing website with streaming capabilities. However, we are now\n",
        "looking at meeting with people who do have this experience and developing a\n",
        "plan of integration.\n",
        "● Our marketing efforts/strategy - In order to acquire a lot of customers and\n",
        "produce sales, our marketing and advertising will need to be aggressive. We\n",
        "could develop a social media account (instagram/facebook) and/or pay for a\n",
        "commercial advertisement on TV.\n",
        "    \"\"\",\n",
        "    'Summary': \"\"\"\n",
        "  Week 5\n",
        "Sent out the previously created interest survey and tried out an HTC Vive but didn’t  function with Youtube App. Scheduled time with advisory board and potential team member. Plan to try an Oculus Go, analyze the survey data, and prepare for the project review. They still lack the knowledge to build a streaming service solution, the renting of the vr equipment is too burdensome  due to rental policies. They continue to have the same problems of website creation and marketing  but don’t have plans for mitigating. Will need to intervene to get them unstuck.\n",
        "\n",
        "\n",
        "    \"\"\"\n",
        "}\n",
        "df = df.append(new_row3, ignore_index=True)\n",
        "# Print the updated DataFrame\n",
        "print(df)"
      ],
      "metadata": {
        "colab": {
          "base_uri": "https://localhost:8080/"
        },
        "id": "BCIwLumT4C_U",
        "outputId": "d3031e25-34b6-454b-c1a1-5fe04c5cf2f6"
      },
      "execution_count": 45,
      "outputs": [
        {
          "output_type": "stream",
          "name": "stdout",
          "text": [
            "                                       Original Text  \\\n",
            "0  \\n  To: VRSS Management Team\\n    From: David ...   \n",
            "1  \\n    To: VRSS Management Team\\n    From: Davi...   \n",
            "2  \\n   To: VRSS Management Team\\nFrom: David Sch...   \n",
            "3  \\n    To: VRSS Management Team\\nFrom: David Sc...   \n",
            "\n",
            "                                             Summary  \n",
            "0  Week 1 Created the team and MOKR. Plan to find...  \n",
            "1  \\n    Week 2\\n    Found competitors and VR str...  \n",
            "2  \\n    Week 3\\n    Created customer profiles, l...  \n",
            "3  \\n  Week 5\\nSent out the previously created in...  \n"
          ]
        },
        {
          "output_type": "stream",
          "name": "stderr",
          "text": [
            "<ipython-input-45-1b301e5e3f85>:127: FutureWarning: The frame.append method is deprecated and will be removed from pandas in a future version. Use pandas.concat instead.\n",
            "  df = df.append(new_row, ignore_index=True)\n",
            "<ipython-input-45-1b301e5e3f85>:194: FutureWarning: The frame.append method is deprecated and will be removed from pandas in a future version. Use pandas.concat instead.\n",
            "  df = df.append(new_row_2, ignore_index=True)\n",
            "<ipython-input-45-1b301e5e3f85>:256: FutureWarning: The frame.append method is deprecated and will be removed from pandas in a future version. Use pandas.concat instead.\n",
            "  df = df.append(new_row3, ignore_index=True)\n"
          ]
        }
      ]
    },
    {
      "cell_type": "code",
      "source": [
        "from datasets import Dataset\n",
        "\n",
        "# Create a dictionary from your DataFrame\n",
        "data_dict = {\n",
        "    \"Original Text\": df[\"Original Text\"].tolist(),\n",
        "    \"Summary\": df[\"Summary\"].tolist()\n",
        "}\n",
        "\n",
        "# Create a Hugging Face dataset\n",
        "dataset = Dataset.from_dict(data_dict)\n",
        "dataset = dataset.map(lambda example: {\"labels\": example[\"Summary\"]})\n",
        "# Print the first few examples to verify the dataset\n",
        "print(dataset[:5])"
      ],
      "metadata": {
        "colab": {
          "base_uri": "https://localhost:8080/",
          "height": 86,
          "referenced_widgets": [
            "7c2f0f753bbb48bdaf53cf2f49ed40e2",
            "ca1d3970086f4f0f88b2d79eb4d036b6",
            "8fbe1d22e9a74b42b176de9b92f92b79",
            "23a633b6329b44249531ae0e8e4f64c1",
            "867c7f764b094a298823c9fd88dfc5af",
            "272faec4538f4241ab449f5021822039",
            "e15bd3a87f494670aaccf5b05b3c6f43",
            "131770f32fd74ddd93f955931388a12b",
            "61f288b623664de5b42e3ba19dceb1ad",
            "f71a3688d7034e2ea3bf13d778331b82",
            "4b62cdf3365c472b8e1394b3e87dd7eb"
          ]
        },
        "id": "Y_4Gy1MO7XZU",
        "outputId": "d710ebe1-ca23-456e-f276-d20eabdc0180"
      },
      "execution_count": 46,
      "outputs": [
        {
          "output_type": "display_data",
          "data": {
            "text/plain": [
              "Map:   0%|          | 0/4 [00:00<?, ? examples/s]"
            ],
            "application/vnd.jupyter.widget-view+json": {
              "version_major": 2,
              "version_minor": 0,
              "model_id": "7c2f0f753bbb48bdaf53cf2f49ed40e2"
            }
          },
          "metadata": {}
        },
        {
          "output_type": "stream",
          "name": "stdout",
          "text": [
            "{'Original Text': ['\\n  To: VRSS Management Team\\n    From: David Schlingloff\\n    Subject: VRSS Management Report – Week ending January 30th, 2022\\n    Copies: Management Team, Advisors\\n\\n    Priorities\\n    We are working on these priorities:\\n    1. Finalize a set of interested and motivated team members.\\n    2. Define competitors to the VRSS product.\\n    3. Identify possible methods of VR streaming.\\n\\n    Progress\\n    During this (short) reporting period, we accomplished these tasks:\\n    - Developed the idea and company:\\n      - Brainstormed possible ideas to pursue and decided upon the VR service.\\n      - Created a name for the company (Virtual Reality Sports Seating - VRSS).\\n    - Founded the Team:\\n      - Confirmed 4 teammates (we may accept more in the following days).\\n      - Drafted our MOKRs for discussion.\\n\\n    Plans\\n    During the next week, we plan to finish these tasks:\\n    - Find 5 competitors to the planned VRSS service:\\n      - Perform research online to develop 5 possible competitors (both direct and indirect) to VRSS service by Friday, February 4th (Alex, Ryan, Matt).\\n    - Brainstorm 4 VR streaming-capable cameras:\\n      - Find 4 different types of video cameras (preferably inexpensive, <$1000) that can support VR streaming capabilities by Friday, February 4th.\\n      - Begin understanding the limitations of streaming bandwidth (David, Kartik).\\n\\n    Problems\\n    We are aware of these problems:\\n    - We need to finalize our team:\\n      - There are still people who were interested in joining last week but left too early to make a final decision. We would like to complete this by the end of class on Monday, January 31st.\\n    - We are unsure if cameras can support our bandwidth:\\n      - The team would like to use a limited number of cameras that can be accessed by many different people during a game. The team is unsure if it is even possible to get these types of cameras without spending excessive amounts of money.\\n    - We do not currently have experience with software/website creation:\\n      - Much of the VRSS streaming service is dependent on a reliable stream with easy website access. A lot of our resources will need to be spent on attempting to create an appealing website with streaming capabilities.\\n\\n    Management Report.doc 2022Jan30 Page 1/2\\n\\n    Attachments\\n    - None.\\n', '\\n    To: VRSS Management Team\\n    From: David Schlingloff\\n    Subject: VRSS Management Report – Week ending February 6th, 2022\\n    Copies: Management Team, Advisors\\n\\n    Priorities\\n    We are working on these priorities:\\n    1. Finalize a set of interested and motivated team members.\\n    2. Defining competitors to the VRSS product.\\n    3. Identifying possible methods of VR streaming.\\n\\n    Progress\\n    During this (short) reporting period, we accomplished these tasks:\\n    - Find 5 competitors to the planned VRSS service – Developed 5 possible\\n    competitors (both direct and indirect) to VRSS service.\\n    - Brainstorm 4 VR streaming capable cameras - Found 4+ different types of\\n    video cameras (preferably inexpensive, <$1000) that can support VR\\n    streaming capabilities.\\n\\n    Plans\\n    During the next week, we plan to finish these tasks:\\n    - Refine our target consumers - Talk about refining the consumers we defined\\n    last week. Build upon this by creating 3 theoretical customer profiles (David,\\n    Alex, Matthew).\\n    - Define our advisory board - We will think about the people that would be\\n    helpful for us to talk to. Think about areas we could ask questions in. Using\\n    these topics, search for people we can possibly talk to and discuss our project\\n    plan. (Ryan, Entire Team).\\n    - Find specific details about 3 competitors - From the competitors we found\\n    last week, go on their websites and explore what they do and learn about\\n    their history. Specifically, create a document by February 11th, with the\\n    following 3 things noted for each: similarities/differences between company\\n    and VRSS, the prices for that service, and if/how they advertise. (Kartik,\\n    Ryan).\\n\\n    Problems\\n    We are aware of these problems:\\n    - We do not currently have experience with software / website creation –\\n    Much of the VRSS streaming service is dependent on a reliable stream\\n    with easy website access. A lot of our resources will need to be spent on\\n    attempting to create an appealing website with streaming capabilities.\\n    - Defining our place in the market is tricky - The team mapped out the\\n    two existing markets - going to sports games and streaming them on TV.\\n    We realized that there is a definitive space in the market for VR streaming,\\n    but it might be tricky to convince the target consumers to pursue this\\n    option versus the others.\\n    - Finding VR capable equipment is expensive - VR is still a relatively new\\n    type of streaming, and therefore the market for this technology is still\\n    relatively niche. Finding equipment (like a VR capable camera) is possible,\\n    but our requirement of <$1000 makes it difficult.\\n    - Our marketing efforts/strategy is a current problem we have. In order to\\n    acquire a lot of customers and produce sales, our marketing and\\n    advertising will need to be phenomenal. We could develop a social media\\n    account (Instagram/Facebook) and/or pay for a commercial\\n    advertisement on TV.\\n\\n    Management Report.doc 2022Feb06 Page 1/5\\n\\n    Attachments\\n    - None.\\n    ', '\\n   To: VRSS Management Team\\nFrom: David Schlingloff\\nSubject: VRSS Management Report – Week ending February 13th, 2022\\nCopies: Management Team, Advisors\\nPriorities\\nWe are working on these priorities:\\n1. Gauge the interest of VR equipment with our target markets\\n2. Identify a way to live-stream in VR\\n3. Brainstorm ways to begin website creation\\nProgress\\nDuring this reporting period, we accomplished these tasks:\\n● Refined our target consumers - Developed our ideal target market by\\ncreating 3 theoretical customer profiles based on the 3 customer groups that\\nthe team developed.\\n● Defined our advisory board - Listed nine people that the team would like to\\ninvite to the first project review meeting. Each person has different unique\\ntalents and abilities that could help the team move forward.\\n● Scheduled VR equipment rental - Reserved a VR camera and VR headset at\\nthe Virginia Tech library so that the team can begin testing with the\\nequipment.\\n● Find specific details about 3 competitors - Unable to accomplish this in the\\nweek timeframe. The team decided that the information we already have is\\nenough to move forward with and we spent our resources on other tasks.\\nPlans\\nDuring the next week, we plan to finish these tasks:\\n● Create an interest survey - Use google forms to develop a survey that can\\ngauge the interest in this service based on the 3 target markets defined by\\nFebruary 17th. Generate a list of 9 people (three from each target market) to\\nbe sent out by February 21st. (Kartik, Ryan, Alex)\\n● Obtain and use VR equipment - Receive the VR camera and headset from\\nthe Virginia Tech library and attempt to connect to the computer. See if it is\\npossible to first record a video in VR. Then work on streaming options if time\\npermits for the week. The team will research and document the process for\\nvideo recording and video streaming (if possible). (David, all team)\\n\\nManagement Report.doc 2022Feb13 Page 1/3\\n\\nProblems\\nWe are aware of these problems:\\n● We still do not currently have experience with software / website\\ncreation – Much of the VRSS streaming service is dependent on a reliable\\nstream with easy website access. A lot of our resources will need to be\\nspent on attempting to create an appealing website with streaming\\ncapabilities. However, we are now looking at meeting with people who do\\nhave this experience and developing a plan of integration.\\n● VR equipment implementation requires resources - Although the team\\nwas successful in figuring out a way to rent VR equipment, it has realized\\nthat in order to record and stream video, a powerful and expensive\\ncomputer is needed. It will need to be portable so that it can be moved to\\nwhere the VR cameras are located.\\n● Our marketing efforts/strategy - In order to acquire a lot of customers and\\nproduce sales, our marketing and advertising will need to be phenomenal.\\nWe could develop a social media account (instagram/facebook) and/or\\npay for\\n    ', '\\n    To: VRSS Management Team\\nFrom: David Schlingloff\\nSubject: VRSS Management Report – Week ending March 4th, 2022\\nCopies: Management Team, Advisors\\nPriorities\\nWe are working on these priorities:\\n1. Get people to take our survey and evaluate the results.\\n2. Identify a way to live-stream in VR\\n3. Submit a video to KickstartVT\\nProgress\\nDuring this reporting period, we accomplished these tasks:\\n● Analyzed interest survey results - Received 25 responses from the survey and\\nwrote a one-page report summarizing the key-findings from the survey that was\\nsent out. The team found that we should continue to pursue this product. (Matt,\\nRyan, Alex)\\n● Obtained and use VR equipment - Obtained the Oculus Go and successfully\\nconnected it to YouTube VR. The process was documented and an Oculus Quest\\n2 was scheduled for rent to attempt to do the same thing. If it works as well, then\\nwe will discuss using the Insta360 camera to live-stream to the Oculus Quest 2.\\n(David, Kartik)\\n● Performed individual project reviews - Gave the presentation to our advisory\\nboard members. (David, all team members)\\n\\nPlans\\nDuring the next week, we plan to finish these tasks:\\n● Finalize interest survey results - Synthesize the survey results and add to our\\nreport and project review presentation. (Ryan, Matt, Alex)\\n● Obtain and use VR equipment - Obtain the Oculus Quest 2 and see if it can\\nconnect to YouTube VR. If so, document the process and start to discuss\\nlive-streaming options using the Insta360 camera. (Alex, Kartik)\\n● Perform team project review - Revise presentation template for the class and\\npresent the project review to the team on Wednesday, March 16th. Record the\\ncomments from the Q&A. (David, all team members)\\n● Create a video for KickStartVT - Record and edit a video for KickstartVT and\\nsubmit on Sunday, March 20th. (David, all team members)\\n\\nProblems\\nWe are aware of these problems:\\n● We can only rent equipment for a limited period - We would like to rent an\\nOculus Go or an Oculus Quest (since they are stand-alone devices), but they\\nrequire rentals so timing can get delayed significantly.\\n● We still do not currently have experience with software / website creation –\\nMuch of the VRSS streaming service is dependent on a reliable stream with easy\\nwebsite access. A lot of our resources will need to be spent on attempting to\\ncreate an appealing website with streaming capabilities. However, we are now\\nlooking at meeting with people who do have this experience and developing a\\nplan of integration.\\n● Our marketing efforts/strategy - In order to acquire a lot of customers and\\nproduce sales, our marketing and advertising will need to be aggressive. We\\ncould develop a social media account (instagram/facebook) and/or pay for a\\ncommercial advertisement on TV.\\n    '], 'Summary': ['Week 1 Created the team and MOKR. Plan to find competitors and understand technology needed. They lack the knowledge to build a streaming service solution and it is unclear who their customers are that would pay for it. Identified problems but don’t have plans for mitigating.', '\\n    Week 2\\n    Found competitors and VR streaming cameras. Plan on analyzing competition, find advisory board members, and create 3 customer profiles. They lack the knowledge to build a streaming service solution, the equipment is too expensive and it is unclear who their customers are that would pay for it. Identified problems but don’t have plans for mitigating.\\n    ', '\\n    Week 3\\n    Created customer profiles, list of potential advisory board members, and reserved VR equipment rentals to address the expense constraint identified last week. Failed to analyze competitors they believe they have sufficient information to move forward though not clear what that is. They plan to create an interest survey (as opposed to interviewing as indicated in MOKR) and record a VR video with rented equipment. They lack the knowledge to build a streaming service solution, the equipment is too expensive. They continue to have the same problems but don’t have plans for mitigating. Will need to intervene to get them unstuck.\\n    ', '\\n  Week 5\\nSent out the previously created interest survey and tried out an HTC Vive but didn’t  function with Youtube App. Scheduled time with advisory board and potential team member. Plan to try an Oculus Go, analyze the survey data, and prepare for the project review. They still lack the knowledge to build a streaming service solution, the renting of the vr equipment is too burdensome  due to rental policies. They continue to have the same problems of website creation and marketing  but don’t have plans for mitigating. Will need to intervene to get them unstuck.\\n\\n\\n    '], 'labels': ['Week 1 Created the team and MOKR. Plan to find competitors and understand technology needed. They lack the knowledge to build a streaming service solution and it is unclear who their customers are that would pay for it. Identified problems but don’t have plans for mitigating.', '\\n    Week 2\\n    Found competitors and VR streaming cameras. Plan on analyzing competition, find advisory board members, and create 3 customer profiles. They lack the knowledge to build a streaming service solution, the equipment is too expensive and it is unclear who their customers are that would pay for it. Identified problems but don’t have plans for mitigating.\\n    ', '\\n    Week 3\\n    Created customer profiles, list of potential advisory board members, and reserved VR equipment rentals to address the expense constraint identified last week. Failed to analyze competitors they believe they have sufficient information to move forward though not clear what that is. They plan to create an interest survey (as opposed to interviewing as indicated in MOKR) and record a VR video with rented equipment. They lack the knowledge to build a streaming service solution, the equipment is too expensive. They continue to have the same problems but don’t have plans for mitigating. Will need to intervene to get them unstuck.\\n    ', '\\n  Week 5\\nSent out the previously created interest survey and tried out an HTC Vive but didn’t  function with Youtube App. Scheduled time with advisory board and potential team member. Plan to try an Oculus Go, analyze the survey data, and prepare for the project review. They still lack the knowledge to build a streaming service solution, the renting of the vr equipment is too burdensome  due to rental policies. They continue to have the same problems of website creation and marketing  but don’t have plans for mitigating. Will need to intervene to get them unstuck.\\n\\n\\n    ']}\n"
          ]
        }
      ]
    },
    {
      "cell_type": "code",
      "source": [
        "import torch\n",
        "from torch.utils.data import DataLoader, Dataset\n",
        "from transformers import T5Tokenizer\n",
        "\n",
        "# Define your ratios\n",
        "train_ratio = 0.8\n",
        "val_test_ratio = 0.1\n",
        "\n",
        "# Calculate the sizes of each split\n",
        "num_samples = len(dataset)\n",
        "num_train = int(train_ratio * num_samples)\n",
        "num_val_test = int(val_test_ratio * num_samples)\n",
        "\n",
        "# Split the dataset\n",
        "train_data = dataset[:num_train]\n",
        "val_data = dataset[num_train:num_train + num_val_test]\n",
        "test_data = dataset[num_train + num_val_test:]\n",
        "\n",
        "# Tokenize and format your data\n",
        "tokenizer = T5Tokenizer.from_pretrained(\"t5-small\")\n",
        "\n",
        "class CustomDataset(Dataset):\n",
        "    def __init__(self, data):\n",
        "        self.data = data\n",
        "        self.tokenizer = tokenizer\n",
        "\n",
        "    def __len__(self):\n",
        "        return len(self.data)\n",
        "\n",
        "    def __getitem__(self, idx):\n",
        "        item = self.data[idx]\n",
        "        input_ids = self.tokenizer.encode(item['Original Text'], return_tensors='pt', max_length=512, truncation=True)\n",
        "        target_ids = self.tokenizer.encode(item['Summary'], return_tensors='pt', max_length=150, truncation=True)\n",
        "        return {\n",
        "            \"input_ids\": input_ids.flatten(),\n",
        "            \"attention_mask\": (input_ids != 0).flatten(),\n",
        "            \"labels\": target_ids.flatten(),\n",
        "        }\n",
        "\n",
        "# Create PyTorch datasets\n",
        "train_dataset = CustomDataset(train_data)\n",
        "val_dataset = CustomDataset(val_data)\n",
        "test_dataset = CustomDataset(test_data)\n",
        "\n",
        "# Create PyTorch DataLoaders\n",
        "train_dataloader = DataLoader(train_dataset, batch_size=8, shuffle=True)\n",
        "val_dataloader = DataLoader(val_dataset, batch_size=8, shuffle=False)\n",
        "test_dataloader = DataLoader(test_dataset, batch_size=8, shuffle=False)\n"
      ],
      "metadata": {
        "id": "Cc5RtBVOTl45"
      },
      "execution_count": 66,
      "outputs": []
    },
    {
      "cell_type": "code",
      "source": [],
      "metadata": {
        "id": "zFDMZ1pLVsQv"
      },
      "execution_count": 67,
      "outputs": []
    },
    {
      "cell_type": "code",
      "source": [
        "from transformers import DataCollatorForSeq2Seq, T5Tokenizer\n",
        "\n",
        "tokenizer = T5Tokenizer.from_pretrained(\"t5-small\")\n",
        "data_collator = DataCollatorForSeq2Seq(tokenizer, model=model)\n"
      ],
      "metadata": {
        "id": "YAlYqOaWV-co"
      },
      "execution_count": 78,
      "outputs": []
    },
    {
      "cell_type": "code",
      "source": [
        "trainer = Trainer(\n",
        "    model=model,\n",
        "    args=training_args,\n",
        "    train_dataset=train_dataset,\n",
        "    data_collator=data_collator,\n",
        "    compute_metrics=lambda p: your_metric_function(predictions=p.predictions, references=p.label_ids),\n",
        ")\n"
      ],
      "metadata": {
        "id": "IL5fh0-bV-kJ"
      },
      "execution_count": 79,
      "outputs": []
    },
    {
      "cell_type": "code",
      "source": [
        "trainer.train()\n",
        "\n",
        "\n",
        "results = trainer.evaluate()\n",
        "\n",
        "#INPUT NEW DATA TO BE SUMMARIZED\n",
        "input_text = \"\"\n",
        "generated_summary = model.generate(input_text, max_length=150, num_beams=4, length_penalty=2.0, early_stopping=True)"
      ],
      "metadata": {
        "colab": {
          "base_uri": "https://localhost:8080/",
          "height": 391
        },
        "id": "hBg4ieYgV-nS",
        "outputId": "dfb4e3ea-3cc1-4704-cbeb-14e8b964ff3c"
      },
      "execution_count": 80,
      "outputs": [
        {
          "output_type": "error",
          "ename": "KeyError",
          "evalue": "ignored",
          "traceback": [
            "\u001b[0;31m---------------------------------------------------------------------------\u001b[0m",
            "\u001b[0;31mKeyError\u001b[0m                                  Traceback (most recent call last)",
            "\u001b[0;32m<ipython-input-80-b76de0226498>\u001b[0m in \u001b[0;36m<cell line: 1>\u001b[0;34m()\u001b[0m\n\u001b[0;32m----> 1\u001b[0;31m \u001b[0mtrainer\u001b[0m\u001b[0;34m.\u001b[0m\u001b[0mtrain\u001b[0m\u001b[0;34m(\u001b[0m\u001b[0;34m)\u001b[0m\u001b[0;34m\u001b[0m\u001b[0;34m\u001b[0m\u001b[0m\n\u001b[0m\u001b[1;32m      2\u001b[0m \u001b[0;34m\u001b[0m\u001b[0m\n\u001b[1;32m      3\u001b[0m \u001b[0;31m# Evaluate your model on the validation dataset\u001b[0m\u001b[0;34m\u001b[0m\u001b[0;34m\u001b[0m\u001b[0m\n\u001b[1;32m      4\u001b[0m \u001b[0mresults\u001b[0m \u001b[0;34m=\u001b[0m \u001b[0mtrainer\u001b[0m\u001b[0;34m.\u001b[0m\u001b[0mevaluate\u001b[0m\u001b[0;34m(\u001b[0m\u001b[0;34m)\u001b[0m\u001b[0;34m\u001b[0m\u001b[0;34m\u001b[0m\u001b[0m\n\u001b[1;32m      5\u001b[0m \u001b[0;34m\u001b[0m\u001b[0m\n",
            "\u001b[0;32m/usr/local/lib/python3.10/dist-packages/transformers/trainer.py\u001b[0m in \u001b[0;36mtrain\u001b[0;34m(self, resume_from_checkpoint, trial, ignore_keys_for_eval, **kwargs)\u001b[0m\n\u001b[1;32m   1551\u001b[0m                 \u001b[0mhf_hub_utils\u001b[0m\u001b[0;34m.\u001b[0m\u001b[0menable_progress_bars\u001b[0m\u001b[0;34m(\u001b[0m\u001b[0;34m)\u001b[0m\u001b[0;34m\u001b[0m\u001b[0;34m\u001b[0m\u001b[0m\n\u001b[1;32m   1552\u001b[0m         \u001b[0;32melse\u001b[0m\u001b[0;34m:\u001b[0m\u001b[0;34m\u001b[0m\u001b[0;34m\u001b[0m\u001b[0m\n\u001b[0;32m-> 1553\u001b[0;31m             return inner_training_loop(\n\u001b[0m\u001b[1;32m   1554\u001b[0m                 \u001b[0margs\u001b[0m\u001b[0;34m=\u001b[0m\u001b[0margs\u001b[0m\u001b[0;34m,\u001b[0m\u001b[0;34m\u001b[0m\u001b[0;34m\u001b[0m\u001b[0m\n\u001b[1;32m   1555\u001b[0m                 \u001b[0mresume_from_checkpoint\u001b[0m\u001b[0;34m=\u001b[0m\u001b[0mresume_from_checkpoint\u001b[0m\u001b[0;34m,\u001b[0m\u001b[0;34m\u001b[0m\u001b[0;34m\u001b[0m\u001b[0m\n",
            "\u001b[0;32m/usr/local/lib/python3.10/dist-packages/transformers/trainer.py\u001b[0m in \u001b[0;36m_inner_training_loop\u001b[0;34m(self, batch_size, args, resume_from_checkpoint, trial, ignore_keys_for_eval)\u001b[0m\n\u001b[1;32m   1811\u001b[0m \u001b[0;34m\u001b[0m\u001b[0m\n\u001b[1;32m   1812\u001b[0m             \u001b[0mstep\u001b[0m \u001b[0;34m=\u001b[0m \u001b[0;34m-\u001b[0m\u001b[0;36m1\u001b[0m\u001b[0;34m\u001b[0m\u001b[0;34m\u001b[0m\u001b[0m\n\u001b[0;32m-> 1813\u001b[0;31m             \u001b[0;32mfor\u001b[0m \u001b[0mstep\u001b[0m\u001b[0;34m,\u001b[0m \u001b[0minputs\u001b[0m \u001b[0;32min\u001b[0m \u001b[0menumerate\u001b[0m\u001b[0;34m(\u001b[0m\u001b[0mepoch_iterator\u001b[0m\u001b[0;34m)\u001b[0m\u001b[0;34m:\u001b[0m\u001b[0;34m\u001b[0m\u001b[0;34m\u001b[0m\u001b[0m\n\u001b[0m\u001b[1;32m   1814\u001b[0m                 \u001b[0mtotal_batched_samples\u001b[0m \u001b[0;34m+=\u001b[0m \u001b[0;36m1\u001b[0m\u001b[0;34m\u001b[0m\u001b[0;34m\u001b[0m\u001b[0m\n\u001b[1;32m   1815\u001b[0m                 \u001b[0;32mif\u001b[0m \u001b[0mrng_to_sync\u001b[0m\u001b[0;34m:\u001b[0m\u001b[0;34m\u001b[0m\u001b[0;34m\u001b[0m\u001b[0m\n",
            "\u001b[0;32m/usr/local/lib/python3.10/dist-packages/accelerate/data_loader.py\u001b[0m in \u001b[0;36m__iter__\u001b[0;34m(self)\u001b[0m\n\u001b[1;32m    382\u001b[0m         \u001b[0;31m# We iterate one batch ahead to check when we are at the end\u001b[0m\u001b[0;34m\u001b[0m\u001b[0;34m\u001b[0m\u001b[0m\n\u001b[1;32m    383\u001b[0m         \u001b[0;32mtry\u001b[0m\u001b[0;34m:\u001b[0m\u001b[0;34m\u001b[0m\u001b[0;34m\u001b[0m\u001b[0m\n\u001b[0;32m--> 384\u001b[0;31m             \u001b[0mcurrent_batch\u001b[0m \u001b[0;34m=\u001b[0m \u001b[0mnext\u001b[0m\u001b[0;34m(\u001b[0m\u001b[0mdataloader_iter\u001b[0m\u001b[0;34m)\u001b[0m\u001b[0;34m\u001b[0m\u001b[0;34m\u001b[0m\u001b[0m\n\u001b[0m\u001b[1;32m    385\u001b[0m         \u001b[0;32mexcept\u001b[0m \u001b[0mStopIteration\u001b[0m\u001b[0;34m:\u001b[0m\u001b[0;34m\u001b[0m\u001b[0;34m\u001b[0m\u001b[0m\n\u001b[1;32m    386\u001b[0m             \u001b[0;32myield\u001b[0m\u001b[0;34m\u001b[0m\u001b[0;34m\u001b[0m\u001b[0m\n",
            "\u001b[0;32m/usr/local/lib/python3.10/dist-packages/torch/utils/data/dataloader.py\u001b[0m in \u001b[0;36m__next__\u001b[0;34m(self)\u001b[0m\n\u001b[1;32m    631\u001b[0m                 \u001b[0;31m# TODO(https://github.com/pytorch/pytorch/issues/76750)\u001b[0m\u001b[0;34m\u001b[0m\u001b[0;34m\u001b[0m\u001b[0m\n\u001b[1;32m    632\u001b[0m                 \u001b[0mself\u001b[0m\u001b[0;34m.\u001b[0m\u001b[0m_reset\u001b[0m\u001b[0;34m(\u001b[0m\u001b[0;34m)\u001b[0m  \u001b[0;31m# type: ignore[call-arg]\u001b[0m\u001b[0;34m\u001b[0m\u001b[0;34m\u001b[0m\u001b[0m\n\u001b[0;32m--> 633\u001b[0;31m             \u001b[0mdata\u001b[0m \u001b[0;34m=\u001b[0m \u001b[0mself\u001b[0m\u001b[0;34m.\u001b[0m\u001b[0m_next_data\u001b[0m\u001b[0;34m(\u001b[0m\u001b[0;34m)\u001b[0m\u001b[0;34m\u001b[0m\u001b[0;34m\u001b[0m\u001b[0m\n\u001b[0m\u001b[1;32m    634\u001b[0m             \u001b[0mself\u001b[0m\u001b[0;34m.\u001b[0m\u001b[0m_num_yielded\u001b[0m \u001b[0;34m+=\u001b[0m \u001b[0;36m1\u001b[0m\u001b[0;34m\u001b[0m\u001b[0;34m\u001b[0m\u001b[0m\n\u001b[1;32m    635\u001b[0m             \u001b[0;32mif\u001b[0m \u001b[0mself\u001b[0m\u001b[0;34m.\u001b[0m\u001b[0m_dataset_kind\u001b[0m \u001b[0;34m==\u001b[0m \u001b[0m_DatasetKind\u001b[0m\u001b[0;34m.\u001b[0m\u001b[0mIterable\u001b[0m \u001b[0;32mand\u001b[0m\u001b[0;31m \u001b[0m\u001b[0;31m\\\u001b[0m\u001b[0;34m\u001b[0m\u001b[0;34m\u001b[0m\u001b[0m\n",
            "\u001b[0;32m/usr/local/lib/python3.10/dist-packages/torch/utils/data/dataloader.py\u001b[0m in \u001b[0;36m_next_data\u001b[0;34m(self)\u001b[0m\n\u001b[1;32m    675\u001b[0m     \u001b[0;32mdef\u001b[0m \u001b[0m_next_data\u001b[0m\u001b[0;34m(\u001b[0m\u001b[0mself\u001b[0m\u001b[0;34m)\u001b[0m\u001b[0;34m:\u001b[0m\u001b[0;34m\u001b[0m\u001b[0;34m\u001b[0m\u001b[0m\n\u001b[1;32m    676\u001b[0m         \u001b[0mindex\u001b[0m \u001b[0;34m=\u001b[0m \u001b[0mself\u001b[0m\u001b[0;34m.\u001b[0m\u001b[0m_next_index\u001b[0m\u001b[0;34m(\u001b[0m\u001b[0;34m)\u001b[0m  \u001b[0;31m# may raise StopIteration\u001b[0m\u001b[0;34m\u001b[0m\u001b[0;34m\u001b[0m\u001b[0m\n\u001b[0;32m--> 677\u001b[0;31m         \u001b[0mdata\u001b[0m \u001b[0;34m=\u001b[0m \u001b[0mself\u001b[0m\u001b[0;34m.\u001b[0m\u001b[0m_dataset_fetcher\u001b[0m\u001b[0;34m.\u001b[0m\u001b[0mfetch\u001b[0m\u001b[0;34m(\u001b[0m\u001b[0mindex\u001b[0m\u001b[0;34m)\u001b[0m  \u001b[0;31m# may raise StopIteration\u001b[0m\u001b[0;34m\u001b[0m\u001b[0;34m\u001b[0m\u001b[0m\n\u001b[0m\u001b[1;32m    678\u001b[0m         \u001b[0;32mif\u001b[0m \u001b[0mself\u001b[0m\u001b[0;34m.\u001b[0m\u001b[0m_pin_memory\u001b[0m\u001b[0;34m:\u001b[0m\u001b[0;34m\u001b[0m\u001b[0;34m\u001b[0m\u001b[0m\n\u001b[1;32m    679\u001b[0m             \u001b[0mdata\u001b[0m \u001b[0;34m=\u001b[0m \u001b[0m_utils\u001b[0m\u001b[0;34m.\u001b[0m\u001b[0mpin_memory\u001b[0m\u001b[0;34m.\u001b[0m\u001b[0mpin_memory\u001b[0m\u001b[0;34m(\u001b[0m\u001b[0mdata\u001b[0m\u001b[0;34m,\u001b[0m \u001b[0mself\u001b[0m\u001b[0;34m.\u001b[0m\u001b[0m_pin_memory_device\u001b[0m\u001b[0;34m)\u001b[0m\u001b[0;34m\u001b[0m\u001b[0;34m\u001b[0m\u001b[0m\n",
            "\u001b[0;32m/usr/local/lib/python3.10/dist-packages/torch/utils/data/_utils/fetch.py\u001b[0m in \u001b[0;36mfetch\u001b[0;34m(self, possibly_batched_index)\u001b[0m\n\u001b[1;32m     49\u001b[0m                 \u001b[0mdata\u001b[0m \u001b[0;34m=\u001b[0m \u001b[0mself\u001b[0m\u001b[0;34m.\u001b[0m\u001b[0mdataset\u001b[0m\u001b[0;34m.\u001b[0m\u001b[0m__getitems__\u001b[0m\u001b[0;34m(\u001b[0m\u001b[0mpossibly_batched_index\u001b[0m\u001b[0;34m)\u001b[0m\u001b[0;34m\u001b[0m\u001b[0;34m\u001b[0m\u001b[0m\n\u001b[1;32m     50\u001b[0m             \u001b[0;32melse\u001b[0m\u001b[0;34m:\u001b[0m\u001b[0;34m\u001b[0m\u001b[0;34m\u001b[0m\u001b[0m\n\u001b[0;32m---> 51\u001b[0;31m                 \u001b[0mdata\u001b[0m \u001b[0;34m=\u001b[0m \u001b[0;34m[\u001b[0m\u001b[0mself\u001b[0m\u001b[0;34m.\u001b[0m\u001b[0mdataset\u001b[0m\u001b[0;34m[\u001b[0m\u001b[0midx\u001b[0m\u001b[0;34m]\u001b[0m \u001b[0;32mfor\u001b[0m \u001b[0midx\u001b[0m \u001b[0;32min\u001b[0m \u001b[0mpossibly_batched_index\u001b[0m\u001b[0;34m]\u001b[0m\u001b[0;34m\u001b[0m\u001b[0;34m\u001b[0m\u001b[0m\n\u001b[0m\u001b[1;32m     52\u001b[0m         \u001b[0;32melse\u001b[0m\u001b[0;34m:\u001b[0m\u001b[0;34m\u001b[0m\u001b[0;34m\u001b[0m\u001b[0m\n\u001b[1;32m     53\u001b[0m             \u001b[0mdata\u001b[0m \u001b[0;34m=\u001b[0m \u001b[0mself\u001b[0m\u001b[0;34m.\u001b[0m\u001b[0mdataset\u001b[0m\u001b[0;34m[\u001b[0m\u001b[0mpossibly_batched_index\u001b[0m\u001b[0;34m]\u001b[0m\u001b[0;34m\u001b[0m\u001b[0;34m\u001b[0m\u001b[0m\n",
            "\u001b[0;32m/usr/local/lib/python3.10/dist-packages/torch/utils/data/_utils/fetch.py\u001b[0m in \u001b[0;36m<listcomp>\u001b[0;34m(.0)\u001b[0m\n\u001b[1;32m     49\u001b[0m                 \u001b[0mdata\u001b[0m \u001b[0;34m=\u001b[0m \u001b[0mself\u001b[0m\u001b[0;34m.\u001b[0m\u001b[0mdataset\u001b[0m\u001b[0;34m.\u001b[0m\u001b[0m__getitems__\u001b[0m\u001b[0;34m(\u001b[0m\u001b[0mpossibly_batched_index\u001b[0m\u001b[0;34m)\u001b[0m\u001b[0;34m\u001b[0m\u001b[0;34m\u001b[0m\u001b[0m\n\u001b[1;32m     50\u001b[0m             \u001b[0;32melse\u001b[0m\u001b[0;34m:\u001b[0m\u001b[0;34m\u001b[0m\u001b[0;34m\u001b[0m\u001b[0m\n\u001b[0;32m---> 51\u001b[0;31m                 \u001b[0mdata\u001b[0m \u001b[0;34m=\u001b[0m \u001b[0;34m[\u001b[0m\u001b[0mself\u001b[0m\u001b[0;34m.\u001b[0m\u001b[0mdataset\u001b[0m\u001b[0;34m[\u001b[0m\u001b[0midx\u001b[0m\u001b[0;34m]\u001b[0m \u001b[0;32mfor\u001b[0m \u001b[0midx\u001b[0m \u001b[0;32min\u001b[0m \u001b[0mpossibly_batched_index\u001b[0m\u001b[0;34m]\u001b[0m\u001b[0;34m\u001b[0m\u001b[0;34m\u001b[0m\u001b[0m\n\u001b[0m\u001b[1;32m     52\u001b[0m         \u001b[0;32melse\u001b[0m\u001b[0;34m:\u001b[0m\u001b[0;34m\u001b[0m\u001b[0;34m\u001b[0m\u001b[0m\n\u001b[1;32m     53\u001b[0m             \u001b[0mdata\u001b[0m \u001b[0;34m=\u001b[0m \u001b[0mself\u001b[0m\u001b[0;34m.\u001b[0m\u001b[0mdataset\u001b[0m\u001b[0;34m[\u001b[0m\u001b[0mpossibly_batched_index\u001b[0m\u001b[0;34m]\u001b[0m\u001b[0;34m\u001b[0m\u001b[0;34m\u001b[0m\u001b[0m\n",
            "\u001b[0;32m<ipython-input-66-bd3d10584708>\u001b[0m in \u001b[0;36m__getitem__\u001b[0;34m(self, idx)\u001b[0m\n\u001b[1;32m     29\u001b[0m \u001b[0;34m\u001b[0m\u001b[0m\n\u001b[1;32m     30\u001b[0m     \u001b[0;32mdef\u001b[0m \u001b[0m__getitem__\u001b[0m\u001b[0;34m(\u001b[0m\u001b[0mself\u001b[0m\u001b[0;34m,\u001b[0m \u001b[0midx\u001b[0m\u001b[0;34m)\u001b[0m\u001b[0;34m:\u001b[0m\u001b[0;34m\u001b[0m\u001b[0;34m\u001b[0m\u001b[0m\n\u001b[0;32m---> 31\u001b[0;31m         \u001b[0mitem\u001b[0m \u001b[0;34m=\u001b[0m \u001b[0mself\u001b[0m\u001b[0;34m.\u001b[0m\u001b[0mdata\u001b[0m\u001b[0;34m[\u001b[0m\u001b[0midx\u001b[0m\u001b[0;34m]\u001b[0m\u001b[0;34m\u001b[0m\u001b[0;34m\u001b[0m\u001b[0m\n\u001b[0m\u001b[1;32m     32\u001b[0m         \u001b[0minput_ids\u001b[0m \u001b[0;34m=\u001b[0m \u001b[0mself\u001b[0m\u001b[0;34m.\u001b[0m\u001b[0mtokenizer\u001b[0m\u001b[0;34m.\u001b[0m\u001b[0mencode\u001b[0m\u001b[0;34m(\u001b[0m\u001b[0mitem\u001b[0m\u001b[0;34m[\u001b[0m\u001b[0;34m'Original Text'\u001b[0m\u001b[0;34m]\u001b[0m\u001b[0;34m,\u001b[0m \u001b[0mreturn_tensors\u001b[0m\u001b[0;34m=\u001b[0m\u001b[0;34m'pt'\u001b[0m\u001b[0;34m,\u001b[0m \u001b[0mmax_length\u001b[0m\u001b[0;34m=\u001b[0m\u001b[0;36m512\u001b[0m\u001b[0;34m,\u001b[0m \u001b[0mtruncation\u001b[0m\u001b[0;34m=\u001b[0m\u001b[0;32mTrue\u001b[0m\u001b[0;34m)\u001b[0m\u001b[0;34m\u001b[0m\u001b[0;34m\u001b[0m\u001b[0m\n\u001b[1;32m     33\u001b[0m         \u001b[0mtarget_ids\u001b[0m \u001b[0;34m=\u001b[0m \u001b[0mself\u001b[0m\u001b[0;34m.\u001b[0m\u001b[0mtokenizer\u001b[0m\u001b[0;34m.\u001b[0m\u001b[0mencode\u001b[0m\u001b[0;34m(\u001b[0m\u001b[0mitem\u001b[0m\u001b[0;34m[\u001b[0m\u001b[0;34m'Summary'\u001b[0m\u001b[0;34m]\u001b[0m\u001b[0;34m,\u001b[0m \u001b[0mreturn_tensors\u001b[0m\u001b[0;34m=\u001b[0m\u001b[0;34m'pt'\u001b[0m\u001b[0;34m,\u001b[0m \u001b[0mmax_length\u001b[0m\u001b[0;34m=\u001b[0m\u001b[0;36m150\u001b[0m\u001b[0;34m,\u001b[0m \u001b[0mtruncation\u001b[0m\u001b[0;34m=\u001b[0m\u001b[0;32mTrue\u001b[0m\u001b[0;34m)\u001b[0m\u001b[0;34m\u001b[0m\u001b[0;34m\u001b[0m\u001b[0m\n",
            "\u001b[0;31mKeyError\u001b[0m: 1"
          ]
        }
      ]
    },
    {
      "cell_type": "code",
      "source": [],
      "metadata": {
        "id": "lR6hwzJJV-q3"
      },
      "execution_count": null,
      "outputs": []
    },
    {
      "cell_type": "code",
      "source": [],
      "metadata": {
        "id": "es8W3F5tV-ve"
      },
      "execution_count": null,
      "outputs": []
    },
    {
      "cell_type": "code",
      "source": [],
      "metadata": {
        "id": "b4T06W-vV-8G"
      },
      "execution_count": null,
      "outputs": []
    },
    {
      "cell_type": "code",
      "source": [],
      "metadata": {
        "id": "gSuV56bfVD-A"
      },
      "execution_count": 80,
      "outputs": []
    },
    {
      "cell_type": "code",
      "source": [],
      "metadata": {
        "id": "4_Tsv1JW5R0i"
      },
      "execution_count": 80,
      "outputs": []
    },
    {
      "cell_type": "code",
      "source": [],
      "metadata": {
        "id": "H8Izn73ZMCLj"
      },
      "execution_count": 80,
      "outputs": []
    },
    {
      "cell_type": "code",
      "source": [],
      "metadata": {
        "id": "SBRqWauDN236"
      },
      "execution_count": 80,
      "outputs": []
    },
    {
      "cell_type": "code",
      "source": [
        "# Example inference\n"
      ],
      "metadata": {
        "id": "LEYuKVxrRCoZ"
      },
      "execution_count": 81,
      "outputs": []
    },
    {
      "cell_type": "code",
      "source": [],
      "metadata": {
        "id": "xUZYvcIR4DBq"
      },
      "execution_count": 81,
      "outputs": []
    },
    {
      "cell_type": "code",
      "source": [],
      "metadata": {
        "id": "BCE25Wmf4DD9"
      },
      "execution_count": null,
      "outputs": []
    },
    {
      "cell_type": "code",
      "source": [],
      "metadata": {
        "id": "e1kHfcJP4DGW"
      },
      "execution_count": null,
      "outputs": []
    },
    {
      "cell_type": "code",
      "source": [],
      "metadata": {
        "id": "xyy8AtLl4DIt"
      },
      "execution_count": null,
      "outputs": []
    },
    {
      "cell_type": "code",
      "source": [],
      "metadata": {
        "id": "3g88HECU4DLC"
      },
      "execution_count": null,
      "outputs": []
    },
    {
      "cell_type": "code",
      "source": [],
      "metadata": {
        "id": "_4SZUV0s4DNs"
      },
      "execution_count": null,
      "outputs": []
    }
  ]
}