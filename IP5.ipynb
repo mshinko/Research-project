{
  "nbformat": 4,
  "nbformat_minor": 0,
  "metadata": {
    "colab": {
      "provenance": [],
      "authorship_tag": "ABX9TyOpquvM/GPQcOHnR/hgwA5s",
      "include_colab_link": true
    },
    "kernelspec": {
      "name": "python3",
      "display_name": "Python 3"
    },
    "language_info": {
      "name": "python"
    }
  },
  "cells": [
    {
      "cell_type": "markdown",
      "metadata": {
        "id": "view-in-github",
        "colab_type": "text"
      },
      "source": [
        "<a href=\"https://colab.research.google.com/github/mshinko/Research-project/blob/main/IP5.ipynb\" target=\"_parent\"><img src=\"https://colab.research.google.com/assets/colab-badge.svg\" alt=\"Open In Colab\"/></a>"
      ]
    },
    {
      "cell_type": "code",
      "execution_count": 1,
      "metadata": {
        "colab": {
          "base_uri": "https://localhost:8080/"
        },
        "id": "FZtxIDbIbO4x",
        "outputId": "81eb9c07-9619-483b-cd82-3715966f33fd"
      },
      "outputs": [
        {
          "output_type": "stream",
          "name": "stdout",
          "text": [
            "Collecting transformers\n",
            "  Downloading transformers-4.33.2-py3-none-any.whl (7.6 MB)\n",
            "\u001b[2K     \u001b[90m━━━━━━━━━━━━━━━━━━━━━━━━━━━━━━━━━━━━━━━━\u001b[0m \u001b[32m7.6/7.6 MB\u001b[0m \u001b[31m34.3 MB/s\u001b[0m eta \u001b[36m0:00:00\u001b[0m\n",
            "\u001b[?25hRequirement already satisfied: filelock in /usr/local/lib/python3.10/dist-packages (from transformers) (3.12.2)\n",
            "Collecting huggingface-hub<1.0,>=0.15.1 (from transformers)\n",
            "  Downloading huggingface_hub-0.17.2-py3-none-any.whl (294 kB)\n",
            "\u001b[2K     \u001b[90m━━━━━━━━━━━━━━━━━━━━━━━━━━━━━━━━━━━━━━\u001b[0m \u001b[32m294.9/294.9 kB\u001b[0m \u001b[31m22.9 MB/s\u001b[0m eta \u001b[36m0:00:00\u001b[0m\n",
            "\u001b[?25hRequirement already satisfied: numpy>=1.17 in /usr/local/lib/python3.10/dist-packages (from transformers) (1.23.5)\n",
            "Requirement already satisfied: packaging>=20.0 in /usr/local/lib/python3.10/dist-packages (from transformers) (23.1)\n",
            "Requirement already satisfied: pyyaml>=5.1 in /usr/local/lib/python3.10/dist-packages (from transformers) (6.0.1)\n",
            "Requirement already satisfied: regex!=2019.12.17 in /usr/local/lib/python3.10/dist-packages (from transformers) (2023.6.3)\n",
            "Requirement already satisfied: requests in /usr/local/lib/python3.10/dist-packages (from transformers) (2.31.0)\n",
            "Collecting tokenizers!=0.11.3,<0.14,>=0.11.1 (from transformers)\n",
            "  Downloading tokenizers-0.13.3-cp310-cp310-manylinux_2_17_x86_64.manylinux2014_x86_64.whl (7.8 MB)\n",
            "\u001b[2K     \u001b[90m━━━━━━━━━━━━━━━━━━━━━━━━━━━━━━━━━━━━━━━━\u001b[0m \u001b[32m7.8/7.8 MB\u001b[0m \u001b[31m52.5 MB/s\u001b[0m eta \u001b[36m0:00:00\u001b[0m\n",
            "\u001b[?25hCollecting safetensors>=0.3.1 (from transformers)\n",
            "  Downloading safetensors-0.3.3-cp310-cp310-manylinux_2_17_x86_64.manylinux2014_x86_64.whl (1.3 MB)\n",
            "\u001b[2K     \u001b[90m━━━━━━━━━━━━━━━━━━━━━━━━━━━━━━━━━━━━━━━━\u001b[0m \u001b[32m1.3/1.3 MB\u001b[0m \u001b[31m39.3 MB/s\u001b[0m eta \u001b[36m0:00:00\u001b[0m\n",
            "\u001b[?25hRequirement already satisfied: tqdm>=4.27 in /usr/local/lib/python3.10/dist-packages (from transformers) (4.66.1)\n",
            "Requirement already satisfied: fsspec in /usr/local/lib/python3.10/dist-packages (from huggingface-hub<1.0,>=0.15.1->transformers) (2023.6.0)\n",
            "Requirement already satisfied: typing-extensions>=3.7.4.3 in /usr/local/lib/python3.10/dist-packages (from huggingface-hub<1.0,>=0.15.1->transformers) (4.5.0)\n",
            "Requirement already satisfied: charset-normalizer<4,>=2 in /usr/local/lib/python3.10/dist-packages (from requests->transformers) (3.2.0)\n",
            "Requirement already satisfied: idna<4,>=2.5 in /usr/local/lib/python3.10/dist-packages (from requests->transformers) (3.4)\n",
            "Requirement already satisfied: urllib3<3,>=1.21.1 in /usr/local/lib/python3.10/dist-packages (from requests->transformers) (2.0.4)\n",
            "Requirement already satisfied: certifi>=2017.4.17 in /usr/local/lib/python3.10/dist-packages (from requests->transformers) (2023.7.22)\n",
            "Installing collected packages: tokenizers, safetensors, huggingface-hub, transformers\n",
            "Successfully installed huggingface-hub-0.17.2 safetensors-0.3.3 tokenizers-0.13.3 transformers-4.33.2\n"
          ]
        }
      ],
      "source": [
        "pip install transformers"
      ]
    },
    {
      "cell_type": "code",
      "source": [
        "pip install jsonlines"
      ],
      "metadata": {
        "colab": {
          "base_uri": "https://localhost:8080/"
        },
        "id": "tkv-vLOybTqK",
        "outputId": "556e0e33-5558-4108-b85a-a53781e1ccba"
      },
      "execution_count": 2,
      "outputs": [
        {
          "output_type": "stream",
          "name": "stdout",
          "text": [
            "Collecting jsonlines\n",
            "  Downloading jsonlines-4.0.0-py3-none-any.whl (8.7 kB)\n",
            "Requirement already satisfied: attrs>=19.2.0 in /usr/local/lib/python3.10/dist-packages (from jsonlines) (23.1.0)\n",
            "Installing collected packages: jsonlines\n",
            "Successfully installed jsonlines-4.0.0\n"
          ]
        }
      ]
    },
    {
      "cell_type": "code",
      "source": [
        "pip install datasets"
      ],
      "metadata": {
        "colab": {
          "base_uri": "https://localhost:8080/"
        },
        "id": "RegIijDgbTrR",
        "outputId": "d8f4012c-ab58-46b2-9af5-3f4f21a7dd47"
      },
      "execution_count": 3,
      "outputs": [
        {
          "output_type": "stream",
          "name": "stdout",
          "text": [
            "Collecting datasets\n",
            "  Downloading datasets-2.14.5-py3-none-any.whl (519 kB)\n",
            "\u001b[2K     \u001b[90m━━━━━━━━━━━━━━━━━━━━━━━━━━━━━━━━━━━━━━━\u001b[0m \u001b[32m519.6/519.6 kB\u001b[0m \u001b[31m5.6 MB/s\u001b[0m eta \u001b[36m0:00:00\u001b[0m\n",
            "\u001b[?25hRequirement already satisfied: numpy>=1.17 in /usr/local/lib/python3.10/dist-packages (from datasets) (1.23.5)\n",
            "Requirement already satisfied: pyarrow>=8.0.0 in /usr/local/lib/python3.10/dist-packages (from datasets) (9.0.0)\n",
            "Collecting dill<0.3.8,>=0.3.0 (from datasets)\n",
            "  Downloading dill-0.3.7-py3-none-any.whl (115 kB)\n",
            "\u001b[2K     \u001b[90m━━━━━━━━━━━━━━━━━━━━━━━━━━━━━━━━━━━━━━\u001b[0m \u001b[32m115.3/115.3 kB\u001b[0m \u001b[31m12.5 MB/s\u001b[0m eta \u001b[36m0:00:00\u001b[0m\n",
            "\u001b[?25hRequirement already satisfied: pandas in /usr/local/lib/python3.10/dist-packages (from datasets) (1.5.3)\n",
            "Requirement already satisfied: requests>=2.19.0 in /usr/local/lib/python3.10/dist-packages (from datasets) (2.31.0)\n",
            "Requirement already satisfied: tqdm>=4.62.1 in /usr/local/lib/python3.10/dist-packages (from datasets) (4.66.1)\n",
            "Collecting xxhash (from datasets)\n",
            "  Downloading xxhash-3.3.0-cp310-cp310-manylinux_2_17_x86_64.manylinux2014_x86_64.whl (194 kB)\n",
            "\u001b[2K     \u001b[90m━━━━━━━━━━━━━━━━━━━━━━━━━━━━━━━━━━━━━━\u001b[0m \u001b[32m194.1/194.1 kB\u001b[0m \u001b[31m17.4 MB/s\u001b[0m eta \u001b[36m0:00:00\u001b[0m\n",
            "\u001b[?25hCollecting multiprocess (from datasets)\n",
            "  Downloading multiprocess-0.70.15-py310-none-any.whl (134 kB)\n",
            "\u001b[2K     \u001b[90m━━━━━━━━━━━━━━━━━━━━━━━━━━━━━━━━━━━━━━\u001b[0m \u001b[32m134.8/134.8 kB\u001b[0m \u001b[31m12.6 MB/s\u001b[0m eta \u001b[36m0:00:00\u001b[0m\n",
            "\u001b[?25hRequirement already satisfied: fsspec[http]<2023.9.0,>=2023.1.0 in /usr/local/lib/python3.10/dist-packages (from datasets) (2023.6.0)\n",
            "Requirement already satisfied: aiohttp in /usr/local/lib/python3.10/dist-packages (from datasets) (3.8.5)\n",
            "Requirement already satisfied: huggingface-hub<1.0.0,>=0.14.0 in /usr/local/lib/python3.10/dist-packages (from datasets) (0.17.2)\n",
            "Requirement already satisfied: packaging in /usr/local/lib/python3.10/dist-packages (from datasets) (23.1)\n",
            "Requirement already satisfied: pyyaml>=5.1 in /usr/local/lib/python3.10/dist-packages (from datasets) (6.0.1)\n",
            "Requirement already satisfied: attrs>=17.3.0 in /usr/local/lib/python3.10/dist-packages (from aiohttp->datasets) (23.1.0)\n",
            "Requirement already satisfied: charset-normalizer<4.0,>=2.0 in /usr/local/lib/python3.10/dist-packages (from aiohttp->datasets) (3.2.0)\n",
            "Requirement already satisfied: multidict<7.0,>=4.5 in /usr/local/lib/python3.10/dist-packages (from aiohttp->datasets) (6.0.4)\n",
            "Requirement already satisfied: async-timeout<5.0,>=4.0.0a3 in /usr/local/lib/python3.10/dist-packages (from aiohttp->datasets) (4.0.3)\n",
            "Requirement already satisfied: yarl<2.0,>=1.0 in /usr/local/lib/python3.10/dist-packages (from aiohttp->datasets) (1.9.2)\n",
            "Requirement already satisfied: frozenlist>=1.1.1 in /usr/local/lib/python3.10/dist-packages (from aiohttp->datasets) (1.4.0)\n",
            "Requirement already satisfied: aiosignal>=1.1.2 in /usr/local/lib/python3.10/dist-packages (from aiohttp->datasets) (1.3.1)\n",
            "Requirement already satisfied: filelock in /usr/local/lib/python3.10/dist-packages (from huggingface-hub<1.0.0,>=0.14.0->datasets) (3.12.2)\n",
            "Requirement already satisfied: typing-extensions>=3.7.4.3 in /usr/local/lib/python3.10/dist-packages (from huggingface-hub<1.0.0,>=0.14.0->datasets) (4.5.0)\n",
            "Requirement already satisfied: idna<4,>=2.5 in /usr/local/lib/python3.10/dist-packages (from requests>=2.19.0->datasets) (3.4)\n",
            "Requirement already satisfied: urllib3<3,>=1.21.1 in /usr/local/lib/python3.10/dist-packages (from requests>=2.19.0->datasets) (2.0.4)\n",
            "Requirement already satisfied: certifi>=2017.4.17 in /usr/local/lib/python3.10/dist-packages (from requests>=2.19.0->datasets) (2023.7.22)\n",
            "Requirement already satisfied: python-dateutil>=2.8.1 in /usr/local/lib/python3.10/dist-packages (from pandas->datasets) (2.8.2)\n",
            "Requirement already satisfied: pytz>=2020.1 in /usr/local/lib/python3.10/dist-packages (from pandas->datasets) (2023.3.post1)\n",
            "Requirement already satisfied: six>=1.5 in /usr/local/lib/python3.10/dist-packages (from python-dateutil>=2.8.1->pandas->datasets) (1.16.0)\n",
            "Installing collected packages: xxhash, dill, multiprocess, datasets\n",
            "Successfully installed datasets-2.14.5 dill-0.3.7 multiprocess-0.70.15 xxhash-3.3.0\n"
          ]
        }
      ]
    },
    {
      "cell_type": "code",
      "source": [
        "pip install accelerate -U"
      ],
      "metadata": {
        "colab": {
          "base_uri": "https://localhost:8080/"
        },
        "id": "pNXssC_tbTty",
        "outputId": "142595d7-8afc-4903-fa98-44d1a6ccd497"
      },
      "execution_count": 4,
      "outputs": [
        {
          "output_type": "stream",
          "name": "stdout",
          "text": [
            "Collecting accelerate\n",
            "  Downloading accelerate-0.23.0-py3-none-any.whl (258 kB)\n",
            "\u001b[2K     \u001b[90m━━━━━━━━━━━━━━━━━━━━━━━━━━━━━━━━━━━━━━━\u001b[0m \u001b[32m258.1/258.1 kB\u001b[0m \u001b[31m3.4 MB/s\u001b[0m eta \u001b[36m0:00:00\u001b[0m\n",
            "\u001b[?25hRequirement already satisfied: numpy>=1.17 in /usr/local/lib/python3.10/dist-packages (from accelerate) (1.23.5)\n",
            "Requirement already satisfied: packaging>=20.0 in /usr/local/lib/python3.10/dist-packages (from accelerate) (23.1)\n",
            "Requirement already satisfied: psutil in /usr/local/lib/python3.10/dist-packages (from accelerate) (5.9.5)\n",
            "Requirement already satisfied: pyyaml in /usr/local/lib/python3.10/dist-packages (from accelerate) (6.0.1)\n",
            "Requirement already satisfied: torch>=1.10.0 in /usr/local/lib/python3.10/dist-packages (from accelerate) (2.0.1+cu118)\n",
            "Requirement already satisfied: huggingface-hub in /usr/local/lib/python3.10/dist-packages (from accelerate) (0.17.2)\n",
            "Requirement already satisfied: filelock in /usr/local/lib/python3.10/dist-packages (from torch>=1.10.0->accelerate) (3.12.2)\n",
            "Requirement already satisfied: typing-extensions in /usr/local/lib/python3.10/dist-packages (from torch>=1.10.0->accelerate) (4.5.0)\n",
            "Requirement already satisfied: sympy in /usr/local/lib/python3.10/dist-packages (from torch>=1.10.0->accelerate) (1.12)\n",
            "Requirement already satisfied: networkx in /usr/local/lib/python3.10/dist-packages (from torch>=1.10.0->accelerate) (3.1)\n",
            "Requirement already satisfied: jinja2 in /usr/local/lib/python3.10/dist-packages (from torch>=1.10.0->accelerate) (3.1.2)\n",
            "Requirement already satisfied: triton==2.0.0 in /usr/local/lib/python3.10/dist-packages (from torch>=1.10.0->accelerate) (2.0.0)\n",
            "Requirement already satisfied: cmake in /usr/local/lib/python3.10/dist-packages (from triton==2.0.0->torch>=1.10.0->accelerate) (3.27.4.1)\n",
            "Requirement already satisfied: lit in /usr/local/lib/python3.10/dist-packages (from triton==2.0.0->torch>=1.10.0->accelerate) (16.0.6)\n",
            "Requirement already satisfied: fsspec in /usr/local/lib/python3.10/dist-packages (from huggingface-hub->accelerate) (2023.6.0)\n",
            "Requirement already satisfied: requests in /usr/local/lib/python3.10/dist-packages (from huggingface-hub->accelerate) (2.31.0)\n",
            "Requirement already satisfied: tqdm>=4.42.1 in /usr/local/lib/python3.10/dist-packages (from huggingface-hub->accelerate) (4.66.1)\n",
            "Requirement already satisfied: MarkupSafe>=2.0 in /usr/local/lib/python3.10/dist-packages (from jinja2->torch>=1.10.0->accelerate) (2.1.3)\n",
            "Requirement already satisfied: charset-normalizer<4,>=2 in /usr/local/lib/python3.10/dist-packages (from requests->huggingface-hub->accelerate) (3.2.0)\n",
            "Requirement already satisfied: idna<4,>=2.5 in /usr/local/lib/python3.10/dist-packages (from requests->huggingface-hub->accelerate) (3.4)\n",
            "Requirement already satisfied: urllib3<3,>=1.21.1 in /usr/local/lib/python3.10/dist-packages (from requests->huggingface-hub->accelerate) (2.0.4)\n",
            "Requirement already satisfied: certifi>=2017.4.17 in /usr/local/lib/python3.10/dist-packages (from requests->huggingface-hub->accelerate) (2023.7.22)\n",
            "Requirement already satisfied: mpmath>=0.19 in /usr/local/lib/python3.10/dist-packages (from sympy->torch>=1.10.0->accelerate) (1.3.0)\n",
            "Installing collected packages: accelerate\n",
            "Successfully installed accelerate-0.23.0\n"
          ]
        }
      ]
    },
    {
      "cell_type": "code",
      "source": [
        "import transformers\n",
        "from transformers import AutoTokenizer, AutoModelForSeq2SeqLM, Seq2SeqTrainingArguments, Seq2SeqTrainer\n",
        "from datasets import load_dataset, load_from_disk\n",
        "import numpy as np\n",
        "import nltk\n"
      ],
      "metadata": {
        "id": "zPSQYT1fbZxy"
      },
      "execution_count": 11,
      "outputs": []
    },
    {
      "cell_type": "code",
      "source": [
        "max_input = 512\n",
        "max_target = 128\n",
        "batch_size = 3\n",
        "model_checkpoints = \"t5-small\""
      ],
      "metadata": {
        "id": "OLPR1xpLbZ0T"
      },
      "execution_count": 12,
      "outputs": []
    },
    {
      "cell_type": "code",
      "source": [
        "import jsonlines\n",
        "import pandas as pd\n",
        "from google.colab import files\n",
        "\n",
        "# Use triple-quoted strings to preserve the formatting\n",
        "original_text = \"\"\"\n",
        "  To: VRSS Management Team\n",
        "    From: David Schlingloff\n",
        "    Subject: VRSS Management Report – Week ending January 30th, 2022\n",
        "    Copies: Management Team, Advisors\n",
        "\n",
        "    Priorities\n",
        "    We are working on these priorities:\n",
        "    1. Finalize a set of interested and motivated team members.\n",
        "    2. Define competitors to the VRSS product.\n",
        "    3. Identify possible methods of VR streaming.\n",
        "\n",
        "    Progress\n",
        "    During this (short) reporting period, we accomplished these tasks:\n",
        "    - Developed the idea and company:\n",
        "      - Brainstormed possible ideas to pursue and decided upon the VR service.\n",
        "      - Created a name for the company (Virtual Reality Sports Seating - VRSS).\n",
        "    - Founded the Team:\n",
        "      - Confirmed 4 teammates (we may accept more in the following days).\n",
        "      - Drafted our MOKRs for discussion.\n",
        "\n",
        "    Plans\n",
        "    During the next week, we plan to finish these tasks:\n",
        "    - Find 5 competitors to the planned VRSS service:\n",
        "      - Perform research online to develop 5 possible competitors (both direct and indirect) to VRSS service by Friday, February 4th (Alex, Ryan, Matt).\n",
        "    - Brainstorm 4 VR streaming-capable cameras:\n",
        "      - Find 4 different types of video cameras (preferably inexpensive, <$1000) that can support VR streaming capabilities by Friday, February 4th.\n",
        "      - Begin understanding the limitations of streaming bandwidth (David, Kartik).\n",
        "\n",
        "    Problems\n",
        "    We are aware of these problems:\n",
        "    - We need to finalize our team:\n",
        "      - There are still people who were interested in joining last week but left too early to make a final decision. We would like to complete this by the end of class on Monday, January 31st.\n",
        "    - We are unsure if cameras can support our bandwidth:\n",
        "      - The team would like to use a limited number of cameras that can be accessed by many different people during a game. The team is unsure if it is even possible to get these types of cameras without spending excessive amounts of money.\n",
        "    - We do not currently have experience with software/website creation:\n",
        "      - Much of the VRSS streaming service is dependent on a reliable stream with easy website access. A lot of our resources will need to be spent on attempting to create an appealing website with streaming capabilities.\n",
        "\n",
        "    Management Report.doc 2022Jan30 Page 1/2\n",
        "\n",
        "    Attachments\n",
        "    - None.\n",
        "\"\"\"\n",
        "\n",
        "# Define the summary\n",
        "summary = \"Week 1 Created the team and MOKR. Plan to find competitors and understand technology needed. They lack the knowledge to build a streaming service solution and it is unclear who their customers are that would pay for it. Identified problems but don’t have plans for mitigating.\"\n",
        "\n",
        "\n",
        "# Create a DataFrame\n",
        "df = pd.DataFrame({'Original Text': [original_text], 'Summary': [summary]})\n",
        "# Define the new row data as a dictionary\n",
        "new_row = {\n",
        "    'Original Text': \"\"\"\n",
        "    To: VRSS Management Team\n",
        "    From: David Schlingloff\n",
        "    Subject: VRSS Management Report – Week ending February 6th, 2022\n",
        "    Copies: Management Team, Advisors\n",
        "\n",
        "    Priorities\n",
        "    We are working on these priorities:\n",
        "    1. Finalize a set of interested and motivated team members.\n",
        "    2. Defining competitors to the VRSS product.\n",
        "    3. Identifying possible methods of VR streaming.\n",
        "\n",
        "    Progress\n",
        "    During this (short) reporting period, we accomplished these tasks:\n",
        "    - Find 5 competitors to the planned VRSS service – Developed 5 possible\n",
        "    competitors (both direct and indirect) to VRSS service.\n",
        "    - Brainstorm 4 VR streaming capable cameras - Found 4+ different types of\n",
        "    video cameras (preferably inexpensive, <$1000) that can support VR\n",
        "    streaming capabilities.\n",
        "\n",
        "    Plans\n",
        "    During the next week, we plan to finish these tasks:\n",
        "    - Refine our target consumers - Talk about refining the consumers we defined\n",
        "    last week. Build upon this by creating 3 theoretical customer profiles (David,\n",
        "    Alex, Matthew).\n",
        "    - Define our advisory board - We will think about the people that would be\n",
        "    helpful for us to talk to. Think about areas we could ask questions in. Using\n",
        "    these topics, search for people we can possibly talk to and discuss our project\n",
        "    plan. (Ryan, Entire Team).\n",
        "    - Find specific details about 3 competitors - From the competitors we found\n",
        "    last week, go on their websites and explore what they do and learn about\n",
        "    their history. Specifically, create a document by February 11th, with the\n",
        "    following 3 things noted for each: similarities/differences between company\n",
        "    and VRSS, the prices for that service, and if/how they advertise. (Kartik,\n",
        "    Ryan).\n",
        "\n",
        "    Problems\n",
        "    We are aware of these problems:\n",
        "    - We do not currently have experience with software / website creation –\n",
        "    Much of the VRSS streaming service is dependent on a reliable stream\n",
        "    with easy website access. A lot of our resources will need to be spent on\n",
        "    attempting to create an appealing website with streaming capabilities.\n",
        "    - Defining our place in the market is tricky - The team mapped out the\n",
        "    two existing markets - going to sports games and streaming them on TV.\n",
        "    We realized that there is a definitive space in the market for VR streaming,\n",
        "    but it might be tricky to convince the target consumers to pursue this\n",
        "    option versus the others.\n",
        "    - Finding VR capable equipment is expensive - VR is still a relatively new\n",
        "    type of streaming, and therefore the market for this technology is still\n",
        "    relatively niche. Finding equipment (like a VR capable camera) is possible,\n",
        "    but our requirement of <$1000 makes it difficult.\n",
        "    - Our marketing efforts/strategy is a current problem we have. In order to\n",
        "    acquire a lot of customers and produce sales, our marketing and\n",
        "    advertising will need to be phenomenal. We could develop a social media\n",
        "    account (Instagram/Facebook) and/or pay for a commercial\n",
        "    advertisement on TV.\n",
        "\n",
        "    Management Report.doc 2022Feb06 Page 1/5\n",
        "\n",
        "    Attachments\n",
        "    - None.\n",
        "    \"\"\",\n",
        "    'Summary': \"\"\"\n",
        "    Week 2\n",
        "    Found competitors and VR streaming cameras. Plan on analyzing competition, find advisory board members, and create 3 customer profiles. They lack the knowledge to build a streaming service solution, the equipment is too expensive and it is unclear who their customers are that would pay for it. Identified problems but don’t have plans for mitigating.\n",
        "    \"\"\"\n",
        "}\n",
        "\n",
        "# Append the new row to the DataFrame\n",
        "df = df.append(new_row, ignore_index=True)\n",
        "# Define the new row\n",
        "new_row_2 = {\n",
        "    'Original Text': \"\"\"\n",
        "   To: VRSS Management Team\n",
        "From: David Schlingloff\n",
        "Subject: VRSS Management Report – Week ending February 13th, 2022\n",
        "Copies: Management Team, Advisors\n",
        "Priorities\n",
        "We are working on these priorities:\n",
        "1. Gauge the interest of VR equipment with our target markets\n",
        "2. Identify a way to live-stream in VR\n",
        "3. Brainstorm ways to begin website creation\n",
        "Progress\n",
        "During this reporting period, we accomplished these tasks:\n",
        "● Refined our target consumers - Developed our ideal target market by\n",
        "creating 3 theoretical customer profiles based on the 3 customer groups that\n",
        "the team developed.\n",
        "● Defined our advisory board - Listed nine people that the team would like to\n",
        "invite to the first project review meeting. Each person has different unique\n",
        "talents and abilities that could help the team move forward.\n",
        "● Scheduled VR equipment rental - Reserved a VR camera and VR headset at\n",
        "the Virginia Tech library so that the team can begin testing with the\n",
        "equipment.\n",
        "● Find specific details about 3 competitors - Unable to accomplish this in the\n",
        "week timeframe. The team decided that the information we already have is\n",
        "enough to move forward with and we spent our resources on other tasks.\n",
        "Plans\n",
        "During the next week, we plan to finish these tasks:\n",
        "● Create an interest survey - Use google forms to develop a survey that can\n",
        "gauge the interest in this service based on the 3 target markets defined by\n",
        "February 17th. Generate a list of 9 people (three from each target market) to\n",
        "be sent out by February 21st. (Kartik, Ryan, Alex)\n",
        "● Obtain and use VR equipment - Receive the VR camera and headset from\n",
        "the Virginia Tech library and attempt to connect to the computer. See if it is\n",
        "possible to first record a video in VR. Then work on streaming options if time\n",
        "permits for the week. The team will research and document the process for\n",
        "video recording and video streaming (if possible). (David, all team)\n",
        "\n",
        "Management Report.doc 2022Feb13 Page 1/3\n",
        "\n",
        "Problems\n",
        "We are aware of these problems:\n",
        "● We still do not currently have experience with software / website\n",
        "creation – Much of the VRSS streaming service is dependent on a reliable\n",
        "stream with easy website access. A lot of our resources will need to be\n",
        "spent on attempting to create an appealing website with streaming\n",
        "capabilities. However, we are now looking at meeting with people who do\n",
        "have this experience and developing a plan of integration.\n",
        "● VR equipment implementation requires resources - Although the team\n",
        "was successful in figuring out a way to rent VR equipment, it has realized\n",
        "that in order to record and stream video, a powerful and expensive\n",
        "computer is needed. It will need to be portable so that it can be moved to\n",
        "where the VR cameras are located.\n",
        "● Our marketing efforts/strategy - In order to acquire a lot of customers and\n",
        "produce sales, our marketing and advertising will need to be phenomenal.\n",
        "We could develop a social media account (instagram/facebook) and/or\n",
        "pay for\n",
        "    \"\"\",\n",
        "    'Summary': \"\"\"\n",
        "    Week 3\n",
        "    Created customer profiles, list of potential advisory board members, and reserved VR equipment rentals to address the expense constraint identified last week. Failed to analyze competitors they believe they have sufficient information to move forward though not clear what that is. They plan to create an interest survey (as opposed to interviewing as indicated in MOKR) and record a VR video with rented equipment. They lack the knowledge to build a streaming service solution, the equipment is too expensive. They continue to have the same problems but don’t have plans for mitigating. Will need to intervene to get them unstuck.\n",
        "    \"\"\"\n",
        "}\n",
        "\n",
        "\n",
        "# Append the new row to the DataFrame\n",
        "df = df.append(new_row_2, ignore_index=True)\n",
        "new_row3 = {\n",
        "    'Original Text': \"\"\"\n",
        "    To: VRSS Management Team\n",
        "From: David Schlingloff\n",
        "Subject: VRSS Management Report – Week ending March 4th, 2022\n",
        "Copies: Management Team, Advisors\n",
        "Priorities\n",
        "We are working on these priorities:\n",
        "1. Get people to take our survey and evaluate the results.\n",
        "2. Identify a way to live-stream in VR\n",
        "3. Submit a video to KickstartVT\n",
        "Progress\n",
        "During this reporting period, we accomplished these tasks:\n",
        "● Analyzed interest survey results - Received 25 responses from the survey and\n",
        "wrote a one-page report summarizing the key-findings from the survey that was\n",
        "sent out. The team found that we should continue to pursue this product. (Matt,\n",
        "Ryan, Alex)\n",
        "● Obtained and use VR equipment - Obtained the Oculus Go and successfully\n",
        "connected it to YouTube VR. The process was documented and an Oculus Quest\n",
        "2 was scheduled for rent to attempt to do the same thing. If it works as well, then\n",
        "we will discuss using the Insta360 camera to live-stream to the Oculus Quest 2.\n",
        "(David, Kartik)\n",
        "● Performed individual project reviews - Gave the presentation to our advisory\n",
        "board members. (David, all team members)\n",
        "\n",
        "Plans\n",
        "During the next week, we plan to finish these tasks:\n",
        "● Finalize interest survey results - Synthesize the survey results and add to our\n",
        "report and project review presentation. (Ryan, Matt, Alex)\n",
        "● Obtain and use VR equipment - Obtain the Oculus Quest 2 and see if it can\n",
        "connect to YouTube VR. If so, document the process and start to discuss\n",
        "live-streaming options using the Insta360 camera. (Alex, Kartik)\n",
        "● Perform team project review - Revise presentation template for the class and\n",
        "present the project review to the team on Wednesday, March 16th. Record the\n",
        "comments from the Q&A. (David, all team members)\n",
        "● Create a video for KickStartVT - Record and edit a video for KickstartVT and\n",
        "submit on Sunday, March 20th. (David, all team members)\n",
        "\n",
        "Problems\n",
        "We are aware of these problems:\n",
        "● We can only rent equipment for a limited period - We would like to rent an\n",
        "Oculus Go or an Oculus Quest (since they are stand-alone devices), but they\n",
        "require rentals so timing can get delayed significantly.\n",
        "● We still do not currently have experience with software / website creation –\n",
        "Much of the VRSS streaming service is dependent on a reliable stream with easy\n",
        "website access. A lot of our resources will need to be spent on attempting to\n",
        "create an appealing website with streaming capabilities. However, we are now\n",
        "looking at meeting with people who do have this experience and developing a\n",
        "plan of integration.\n",
        "● Our marketing efforts/strategy - In order to acquire a lot of customers and\n",
        "produce sales, our marketing and advertising will need to be aggressive. We\n",
        "could develop a social media account (instagram/facebook) and/or pay for a\n",
        "commercial advertisement on TV.\n",
        "    \"\"\",\n",
        "    'Summary': \"\"\"\n",
        "  Week 5\n",
        "Sent out the previously created interest survey and tried out an HTC Vive but didn’t  function with Youtube App. Scheduled time with advisory board and potential team member. Plan to try an Oculus Go, analyze the survey data, and prepare for the project review. They still lack the knowledge to build a streaming service solution, the renting of the vr equipment is too burdensome  due to rental policies. They continue to have the same problems of website creation and marketing  but don’t have plans for mitigating. Will need to intervene to get them unstuck.\n",
        "\n",
        "\n",
        "    \"\"\"\n",
        "}\n",
        "df = df.append(new_row3, ignore_index=True)\n",
        "# Print the updated DataFrame\n",
        "print(df)"
      ],
      "metadata": {
        "colab": {
          "base_uri": "https://localhost:8080/"
        },
        "id": "FQofSsoHbZ2o",
        "outputId": "c723fe88-39ef-4f2c-fbd2-4cbd5a3f891c"
      },
      "execution_count": 13,
      "outputs": [
        {
          "output_type": "stream",
          "name": "stdout",
          "text": [
            "                                       Original Text  \\\n",
            "0  \\n  To: VRSS Management Team\\n    From: David ...   \n",
            "1  \\n    To: VRSS Management Team\\n    From: Davi...   \n",
            "2  \\n   To: VRSS Management Team\\nFrom: David Sch...   \n",
            "3  \\n    To: VRSS Management Team\\nFrom: David Sc...   \n",
            "\n",
            "                                             Summary  \n",
            "0  Week 1 Created the team and MOKR. Plan to find...  \n",
            "1  \\n    Week 2\\n    Found competitors and VR str...  \n",
            "2  \\n    Week 3\\n    Created customer profiles, l...  \n",
            "3  \\n  Week 5\\nSent out the previously created in...  \n"
          ]
        },
        {
          "output_type": "stream",
          "name": "stderr",
          "text": [
            "<ipython-input-13-1b301e5e3f85>:127: FutureWarning: The frame.append method is deprecated and will be removed from pandas in a future version. Use pandas.concat instead.\n",
            "  df = df.append(new_row, ignore_index=True)\n",
            "<ipython-input-13-1b301e5e3f85>:194: FutureWarning: The frame.append method is deprecated and will be removed from pandas in a future version. Use pandas.concat instead.\n",
            "  df = df.append(new_row_2, ignore_index=True)\n",
            "<ipython-input-13-1b301e5e3f85>:256: FutureWarning: The frame.append method is deprecated and will be removed from pandas in a future version. Use pandas.concat instead.\n",
            "  df = df.append(new_row3, ignore_index=True)\n"
          ]
        }
      ]
    },
    {
      "cell_type": "code",
      "source": [
        "import pandas as pd\n",
        "from sklearn.model_selection import train_test_split\n",
        "\n",
        "# Your DataFrame df contains the data\n",
        "\n",
        "# Split the data into training (70%), testing (15%), and validation (15%) sets\n",
        "train_df, temp_df = train_test_split(df, test_size=0.3, random_state=42)\n",
        "test_df, val_df = train_test_split(temp_df, test_size=0.5, random_state=42)\n",
        "\n",
        "# Now you"
      ],
      "metadata": {
        "id": "DZoZB3LEbZ5J"
      },
      "execution_count": 8,
      "outputs": []
    },
    {
      "cell_type": "code",
      "source": [
        "from transformers import AutoTokenizer\n",
        "\n",
        "tokenizer = AutoTokenizer.from_pretrained(\"t5-small\")\n",
        "# Assuming you have already tokenized your training data\n",
        "tokenized_inputs = tokenizer(train_df['Original Text'].tolist(), truncation=True, padding='max_length', max_length=max_input, return_tensors=\"pt\", add_special_tokens=True)\n",
        "tokenized_targets = tokenizer(train_df['Summary'].tolist(), truncation=True, padding='max_length', max_length=max_target, return_tensors=\"pt\", add_special_tokens=True)\n",
        "# Assuming you have already tokenized your testing data\n",
        "tokenized_inputs_test = tokenizer(test_df['Original Text'].tolist(), truncation=True, padding='max_length', max_length=max_input, return_tensors=\"pt\", add_special_tokens=True)\n",
        "tokenized_targets_test = tokenizer(test_df['Summary'].tolist(), truncation=True, padding='max_length', max_length=max_target, return_tensors=\"pt\", add_special_tokens=True)\n",
        "# Assuming you have already tokenized your validation data\n",
        "tokenized_inputs_val = tokenizer(val_df['Original Text'].tolist(), truncation=True, padding='max_length', max_length=max_input, return_tensors=\"pt\", add_special_tokens=True)\n",
        "tokenized_targets_val = tokenizer(val_df['Summary'].tolist(), truncation=True, padding='max_length', max_length=max_target, return_tensors=\"pt\", add_special_tokens=True)\n",
        "\n",
        "# Now, you can create a data loader for training\n",
        "train_dataset = CustomDataset(tokenized_inputs, tokenized_targets)"
      ],
      "metadata": {
        "id": "NBWlIoIsbZ7Y"
      },
      "execution_count": 20,
      "outputs": []
    },
    {
      "cell_type": "code",
      "source": [
        "from torch.utils.data import DataLoader, Dataset\n",
        "\n",
        "# Define a custom dataset class\n",
        "class CustomDataset(Dataset):\n",
        "    def __init__(self, tokenized_inputs, tokenized_targets):\n",
        "        self.input_ids = tokenized_inputs['input_ids']\n",
        "        self.attention_mask = tokenized_inputs['attention_mask']\n",
        "        self.labels = tokenized_targets['input_ids']\n",
        "\n",
        "    def __len__(self):\n",
        "        return len(self.input_ids)\n",
        "\n",
        "    def __getitem__(self, idx):\n",
        "        return {\n",
        "            'input_ids': self.input_ids[idx],\n",
        "            'attention_mask': self.attention_mask[idx],\n",
        "            'labels': self.labels[idx]\n",
        "        }\n",
        "\n",
        "# Rest of your code\n",
        "# ...\n",
        "\n",
        "# Create instances of your custom dataset for training, testing, and validation\n",
        "train_dataset = CustomDataset(tokenized_inputs, tokenized_targets)\n",
        "test_dataset = CustomDataset(tokenized_inputs_test, tokenized_targets_test)\n",
        "val_dataset = CustomDataset(tokenized_inputs_val, tokenized_targets_val)\n",
        "\n",
        "# Create data loaders\n",
        "batch_size = 8  # You can adjust this based on your hardware limitations\n",
        "train_loader = DataLoader(train_dataset, batch_size=batch_size, shuffle=True)\n",
        "test_loader = DataLoader(test_dataset, batch_size=batch_size, shuffle=False)\n",
        "val_loader = DataLoader(val_dataset, batch_size=batch_size, shuffle=False)\n"
      ],
      "metadata": {
        "id": "pNnN0dbnbZ99"
      },
      "execution_count": 35,
      "outputs": []
    },
    {
      "cell_type": "code",
      "source": [
        "from transformers import Seq2SeqTrainingArguments\n",
        "\n",
        "training_args = Seq2SeqTrainingArguments(\n",
        "    per_device_train_batch_size=batch_size,\n",
        "    evaluation_strategy=\"steps\",  # \"steps\" or \"epoch\"\n",
        "    save_total_limit=1,  # Number of checkpoints to keep\n",
        "    save_steps=100,  # Save a checkpoint every X steps\n",
        "    num_train_epochs=5,  # Number of training epochs\n",
        "    learning_rate=1e-4,  # Learning rate\n",
        "    output_dir=\"./model_checkpoint\",  # Directory to save the model\n",
        "    save_strategy=\"steps\",  # \"steps\" or \"epoch\"\n",
        "    eval_steps=100,  # Evaluate every X steps\n",
        "    logging_steps=100,  # Log every X steps\n",
        "    push_to_hub=False,  # Set to True to push model checkpoints to the Hugging Face Hub\n",
        ")\n"
      ],
      "metadata": {
        "id": "S44xdzsObaAW"
      },
      "execution_count": 36,
      "outputs": []
    },
    {
      "cell_type": "code",
      "source": [
        "from transformers import AutoModelForSeq2SeqLM, AutoTokenizer, DataCollatorForSeq2Seq\n",
        "\n",
        "# Load the pre-trained model and tokenizer\n",
        "model_checkpoint = \"t5-small\"\n",
        "tokenizer = AutoTokenizer.from_pretrained(model_checkpoint)\n",
        "model = AutoModelForSeq2SeqLM.from_pretrained(model_checkpoint)\n",
        "\n",
        "# Create a data collator\n",
        "data_collator = DataCollatorForSeq2Seq(\n",
        "    tokenizer=tokenizer,\n",
        "    model=model,\n",
        ")\n",
        "\n",
        "# Now you can use the data collator in your training process\n"
      ],
      "metadata": {
        "id": "kFahNbttbaCy"
      },
      "execution_count": 37,
      "outputs": []
    },
    {
      "cell_type": "code",
      "source": [
        "from transformers import Seq2SeqTrainer\n",
        "\n",
        "trainer = Seq2SeqTrainer(\n",
        "    model=model,\n",
        "    args=training_args,\n",
        "    data_collator=data_collator,\n",
        "    train_dataset=train_dataset,\n",
        "    eval_dataset=val_dataset,\n",
        ")"
      ],
      "metadata": {
        "id": "bpHWfJwLbaFW"
      },
      "execution_count": 39,
      "outputs": []
    },
    {
      "cell_type": "code",
      "source": [
        "trainer.train()"
      ],
      "metadata": {
        "colab": {
          "base_uri": "https://localhost:8080/",
          "height": 167
        },
        "id": "xXofj81VbaH1",
        "outputId": "0402655e-9737-4fbc-f215-e4dd09183fae"
      },
      "execution_count": 40,
      "outputs": [
        {
          "output_type": "stream",
          "name": "stderr",
          "text": [
            "You're using a T5TokenizerFast tokenizer. Please note that with a fast tokenizer, using the `__call__` method is faster than using a method to encode the text followed by a call to the `pad` method to get a padded encoding.\n"
          ]
        },
        {
          "output_type": "display_data",
          "data": {
            "text/plain": [
              "<IPython.core.display.HTML object>"
            ],
            "text/html": [
              "\n",
              "    <div>\n",
              "      \n",
              "      <progress value='5' max='5' style='width:300px; height:20px; vertical-align: middle;'></progress>\n",
              "      [5/5 00:23, Epoch 5/5]\n",
              "    </div>\n",
              "    <table border=\"1\" class=\"dataframe\">\n",
              "  <thead>\n",
              " <tr style=\"text-align: left;\">\n",
              "      <th>Step</th>\n",
              "      <th>Training Loss</th>\n",
              "      <th>Validation Loss</th>\n",
              "    </tr>\n",
              "  </thead>\n",
              "  <tbody>\n",
              "  </tbody>\n",
              "</table><p>"
            ]
          },
          "metadata": {}
        },
        {
          "output_type": "execute_result",
          "data": {
            "text/plain": [
              "TrainOutput(global_step=5, training_loss=9.2330810546875, metrics={'train_runtime': 31.3708, 'train_samples_per_second': 0.319, 'train_steps_per_second': 0.159, 'total_flos': 1353418014720.0, 'train_loss': 9.2330810546875, 'epoch': 5.0})"
            ]
          },
          "metadata": {},
          "execution_count": 40
        }
      ]
    },
    {
      "cell_type": "code",
      "source": [
        "results = trainer.evaluate()\n",
        "print(results)"
      ],
      "metadata": {
        "colab": {
          "base_uri": "https://localhost:8080/",
          "height": 75
        },
        "id": "2VtJyrLgbaKM",
        "outputId": "00ef71e2-bc20-4de6-d25d-0dae99c6714f"
      },
      "execution_count": 41,
      "outputs": [
        {
          "output_type": "display_data",
          "data": {
            "text/plain": [
              "<IPython.core.display.HTML object>"
            ],
            "text/html": [
              "\n",
              "    <div>\n",
              "      \n",
              "      <progress value='1' max='1' style='width:300px; height:20px; vertical-align: middle;'></progress>\n",
              "      [1/1 : < :]\n",
              "    </div>\n",
              "    "
            ]
          },
          "metadata": {}
        },
        {
          "output_type": "stream",
          "name": "stdout",
          "text": [
            "{'eval_loss': 6.0609917640686035, 'eval_runtime': 1.0145, 'eval_samples_per_second': 0.986, 'eval_steps_per_second': 0.986, 'epoch': 5.0}\n"
          ]
        }
      ]
    },
    {
      "cell_type": "code",
      "source": [
        "trainer.save_model(\"./fine_tuned_model\")"
      ],
      "metadata": {
        "id": "Rog1Jpu6baMT"
      },
      "execution_count": 42,
      "outputs": []
    },
    {
      "cell_type": "code",
      "source": [
        "test_texts = [\n",
        "\"\"\"\n",
        "    To: VRSS Management Team\n",
        "From: David Schlingloff\n",
        "Subject: VRSS Management Report – Week ending February 27th, 2022\n",
        "Copies: Management Team, Advisors\n",
        "Priorities\n",
        "We are working on these priorities:\n",
        "1. Get people to take our survey and evaluate the results.\n",
        "2. Identify a way to live-stream in VR\n",
        "3. Recruit people from the advisory board wish-list through the project review\n",
        "occurring the week of February 27th.\n",
        "Progress\n",
        "During this reporting period, we accomplished these tasks:\n",
        "● Send our interest survey out - Distributed the interest survey to 50+ people at the\n",
        "end of the week are still waiting to receive responses from it. (Matt, Ryan, Alex)\n",
        "● Obtain and use VR equipment - Booked the Oculus Go headset from the library\n",
        "beginning on Monday February 28th at 4:00pm. Since it is an all-in-one, this should\n",
        "negate the issues of needing a powerful PC to run the VR headset. Oculus should\n",
        "also offer support for the YouTube VR app, unlike the HTC Vive that we rented.\n",
        "(David, all team members)\n",
        "● Talk to another interested member - Scheduled a time with the interested team\n",
        "member to meet this week (attend our project review) . (Kartik, David)\n",
        "● Define dates for individual or group project reviews with advisory board\n",
        "members - Reached out to our advisory board and set times to meet for the\n",
        "individual project reviews that will be occurring this week. (David, all team\n",
        "members)\n",
        "\n",
        "Plans\n",
        "During the next week, we plan to finish these tasks:\n",
        "● Analyze interest survey results - Receive at least 25 responses from the survey and\n",
        "write a one-page report summarizing the key-findings from the survey that was sent\n",
        "out. The report will contain a recommendation on whether the company should\n",
        "move forward with the current target markets. (Matt, Ryan, Alex)\n",
        "● Obtain and use VR equipment - Obtain the Oculus Go and see if it can connect to\n",
        "YouTube VR. If so, document the process and start to discuss live-streaming options\n",
        "using the Insta360 camera. (David, Kartik)\n",
        "\n",
        "● Perform individual project reviews - Create one presentation template that each\n",
        "teammate can use to tailor to their respective meetings that will be held with the\n",
        "potential advisory board members. Have each teammate then revise the template to\n",
        "their needs, and give the presentation to the advisory board members individually.\n",
        "Record the comments from the Q&A and ask if they would like to formally join the\n",
        "advisory board. (David, all team members)\n",
        "\n",
        "Problems\n",
        "We are aware of these problems:\n",
        "● We can only rent equipment for a limited period - We would like to rent an\n",
        "Oculus Go or an Oculus Quest (since they are stand-alone devices), but they\n",
        "require rentals so timing can get delayed significantly.\n",
        "● We still do not currently have experience with software / website creation –\n",
        "Much of the VRSS streaming service is dependent on a reliable stream with easy\n",
        "website access. A lot of our resources will need to be spent on attempting to\n",
        "create an appealing website with streaming capabilities. However, we are now\n",
        "looking at meeting with people who do have this experience and developing a\n",
        "plan of integration.\n",
        "● Our marketing efforts/strategy - In order to acquire a lot of customers and\n",
        "produce sales, our marketing and advertising will need to be aggressive. We\n",
        "could develop a social media account (instagram/facebook) and/or pay for a\n",
        "commercial advertisement on TV.\n",
        "\"\"\"\n",
        "    # Add more test texts as needed\n",
        "]\n",
        "from transformers import pipeline\n",
        "# Create a summarization pipeline using your fine-tuned model\n",
        "summarizer = pipeline(\"summarization\", model=\"./fine_tuned_model\", tokenizer=tokenizer)\n",
        "\n",
        "# Loop through test texts and generate summaries\n",
        "for text in test_texts:\n",
        "    summary = summarizer(text)\n",
        "    print(\"Original Text:\", text)\n",
        "    print(\"Generated Summary:\", summary[0]['summary_text'])\n"
      ],
      "metadata": {
        "colab": {
          "base_uri": "https://localhost:8080/"
        },
        "id": "po-6fjs9bTw-",
        "outputId": "99995428-49c2-432a-f967-8b2bee1bec24"
      },
      "execution_count": 43,
      "outputs": [
        {
          "output_type": "stream",
          "name": "stderr",
          "text": [
            "Token indices sequence length is longer than the specified maximum sequence length for this model (773 > 512). Running this sequence through the model will result in indexing errors\n"
          ]
        },
        {
          "output_type": "stream",
          "name": "stdout",
          "text": [
            "Original Text: \n",
            "    To: VRSS Management Team\n",
            "From: David Schlingloff\n",
            "Subject: VRSS Management Report – Week ending February 27th, 2022\n",
            "Copies: Management Team, Advisors\n",
            "Priorities\n",
            "We are working on these priorities:\n",
            "1. Get people to take our survey and evaluate the results.\n",
            "2. Identify a way to live-stream in VR\n",
            "3. Recruit people from the advisory board wish-list through the project review\n",
            "occurring the week of February 27th.\n",
            "Progress\n",
            "During this reporting period, we accomplished these tasks:\n",
            "● Send our interest survey out - Distributed the interest survey to 50+ people at the\n",
            "end of the week are still waiting to receive responses from it. (Matt, Ryan, Alex)\n",
            "● Obtain and use VR equipment - Booked the Oculus Go headset from the library\n",
            "beginning on Monday February 28th at 4:00pm. Since it is an all-in-one, this should\n",
            "negate the issues of needing a powerful PC to run the VR headset. Oculus should\n",
            "also offer support for the YouTube VR app, unlike the HTC Vive that we rented.\n",
            "(David, all team members)\n",
            "● Talk to another interested member - Scheduled a time with the interested team\n",
            "member to meet this week (attend our project review) . (Kartik, David)\n",
            "● Define dates for individual or group project reviews with advisory board\n",
            "members - Reached out to our advisory board and set times to meet for the\n",
            "individual project reviews that will be occurring this week. (David, all team\n",
            "members)\n",
            "\n",
            "Plans\n",
            "During the next week, we plan to finish these tasks:\n",
            "● Analyze interest survey results - Receive at least 25 responses from the survey and\n",
            "write a one-page report summarizing the key-findings from the survey that was sent\n",
            "out. The report will contain a recommendation on whether the company should\n",
            "move forward with the current target markets. (Matt, Ryan, Alex)\n",
            "● Obtain and use VR equipment - Obtain the Oculus Go and see if it can connect to\n",
            "YouTube VR. If so, document the process and start to discuss live-streaming options\n",
            "using the Insta360 camera. (David, Kartik)\n",
            "\n",
            "● Perform individual project reviews - Create one presentation template that each\n",
            "teammate can use to tailor to their respective meetings that will be held with the\n",
            "potential advisory board members. Have each teammate then revise the template to\n",
            "their needs, and give the presentation to the advisory board members individually.\n",
            "Record the comments from the Q&A and ask if they would like to formally join the\n",
            "advisory board. (David, all team members)\n",
            "\n",
            "Problems\n",
            "We are aware of these problems:\n",
            "● We can only rent equipment for a limited period - We would like to rent an\n",
            "Oculus Go or an Oculus Quest (since they are stand-alone devices), but they\n",
            "require rentals so timing can get delayed significantly.\n",
            "● We still do not currently have experience with software / website creation –\n",
            "Much of the VRSS streaming service is dependent on a reliable stream with easy\n",
            "website access. A lot of our resources will need to be spent on attempting to\n",
            "create an appealing website with streaming capabilities. However, we are now\n",
            "looking at meeting with people who do have this experience and developing a\n",
            "plan of integration.\n",
            "● Our marketing efforts/strategy - In order to acquire a lot of customers and\n",
            "produce sales, our marketing and advertising will need to be aggressive. We\n",
            "could develop a social media account (instagram/facebook) and/or pay for a\n",
            "commercial advertisement on TV.\n",
            "\n",
            "Generated Summary: Recruit people from the advisory board wish-list through the project review occurring the week of February 27th, 2022 . report will contain a recommendation on whether the company should move forward with the current target markets . a lot of our resources will need to be spent on creating an appealing website with easy website access .\n"
          ]
        }
      ]
    },
    {
      "cell_type": "code",
      "source": [
        "trainer.save_model(\"./fine_tuned_model\")"
      ],
      "metadata": {
        "id": "RTqklM1VdaGx"
      },
      "execution_count": 44,
      "outputs": []
    },
    {
      "cell_type": "code",
      "source": [
        "model.save_pretrained(\"./fine_tuned_model\")\n",
        "tokenizer.save_pretrained(\"./fine_tuned_model\")\n"
      ],
      "metadata": {
        "colab": {
          "base_uri": "https://localhost:8080/"
        },
        "id": "kQ2E-XSadaLv",
        "outputId": "ffca5fdc-ecc4-4132-9d08-7913204036be"
      },
      "execution_count": 45,
      "outputs": [
        {
          "output_type": "execute_result",
          "data": {
            "text/plain": [
              "('./fine_tuned_model/tokenizer_config.json',\n",
              " './fine_tuned_model/special_tokens_map.json',\n",
              " './fine_tuned_model/tokenizer.json')"
            ]
          },
          "metadata": {},
          "execution_count": 45
        }
      ]
    },
    {
      "cell_type": "code",
      "source": [
        "pip install rouge"
      ],
      "metadata": {
        "colab": {
          "base_uri": "https://localhost:8080/"
        },
        "id": "gQJ9tBFwdaOk",
        "outputId": "862b3c3a-5f05-4d66-8354-abbd6fbcf8ba"
      },
      "execution_count": 33,
      "outputs": [
        {
          "output_type": "stream",
          "name": "stdout",
          "text": [
            "Collecting rouge\n",
            "  Downloading rouge-1.0.1-py3-none-any.whl (13 kB)\n",
            "Requirement already satisfied: six in /usr/local/lib/python3.10/dist-packages (from rouge) (1.16.0)\n",
            "Installing collected packages: rouge\n",
            "Successfully installed rouge-1.0.1\n"
          ]
        }
      ]
    },
    {
      "cell_type": "code",
      "source": [
        "from nltk.translate.bleu_score import corpus_bleu, sentence_bleu\n",
        "\n",
        "# Example generated and reference summaries\n",
        "generated_summary = \"Recruit people from the advisory board wish-list through the project review occurring the week of February 27th, 2022 . report will contain a recommendation on whether the company should move forward with the current target markets . a lot of our resources will need to be spent on creating an appealing website with easy website access\"\n",
        "reference_summary = \"Week 1 Created the team and MOKR. Plan to find competitors and understand technology needed. They lack the knowledge to build a streaming service solution and it is unclear who their customers are that would pay for it. Identified problems but don’t have plans for mitigating.\"\n",
        "\n",
        "# Tokenize the summaries (you can customize tokenization as needed)\n",
        "generated_tokens = generated_summary.split()\n",
        "reference_tokens = reference_summary.split()\n",
        "\n",
        "# Calculate Rouge-1 (unigram) score\n",
        "from nltk.translate.bleu_score import sentence_bleu\n",
        "rouge_score = sentence_bleu([reference_tokens], generated_tokens)\n",
        "\n",
        "print(\"Rouge Score:\", rouge_score)"
      ],
      "metadata": {
        "colab": {
          "base_uri": "https://localhost:8080/"
        },
        "id": "cZWXkFJCdaRc",
        "outputId": "c0919e4d-f131-481c-e95c-1754f8b97f9f"
      },
      "execution_count": 47,
      "outputs": [
        {
          "output_type": "stream",
          "name": "stdout",
          "text": [
            "Rouge Score: 9.418382295637229e-232\n"
          ]
        }
      ]
    }
  ]
}